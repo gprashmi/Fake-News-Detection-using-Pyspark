{
 "cells": [
  {
   "cell_type": "markdown",
   "metadata": {
    "colab_type": "text",
    "id": "JisnpFXE-Fkz"
   },
   "source": [
    "# **Fake News Detection**\n",
    "\n",
    "This notebook detects the fake news based on the text of the article. The fake news detection is modelled using three algorithms to predict fake and real news and the sections covered in this notebook are:\n",
    "\n",
    "1. Install libraries \n",
    "2. Import necessary libraries and load the data\n",
    "3. Data Exploration\n",
    "4. Data Cleaning\n",
    "5. Text Preprocessing\n",
    "6. Function for Evaluation Metrics\n",
    "7. Apply the algortihms to predict the fake news: \n",
    "          1. Decision Tree\n",
    "          2. Gradient Boosting Tree Classifier\n",
    "          3. Neural Network using Keras and Elephas\n",
    "8. Conclusion\n"
   ]
  },
  {
   "cell_type": "markdown",
   "metadata": {
    "colab_type": "text",
    "id": "OZ2Oj2Q-QQdw"
   },
   "source": [
    "**1. Install Libraries**\n",
    "\n",
    "This project is implemented using Apache Spark written in Pyspark. In order to code the project in jupyter notebook, Pyspark module should be installed which is done using the command !pip install pyspark.\n"
   ]
  },
  {
   "cell_type": "code",
   "execution_count": 3,
   "metadata": {
    "colab": {
     "base_uri": "https://localhost:8080/",
     "height": 235
    },
    "colab_type": "code",
    "id": "pzgxpA0axXm9",
    "outputId": "e24063f0-7b37-465f-e979-48c7860860ba"
   },
   "outputs": [
    {
     "name": "stdout",
     "output_type": "stream",
     "text": [
      "Collecting pyspark\n",
      "\u001b[?25l  Downloading https://files.pythonhosted.org/packages/8e/b0/bf9020b56492281b9c9d8aae8f44ff51e1bc91b3ef5a884385cb4e389a40/pyspark-3.0.0.tar.gz (204.7MB)\n",
      "\u001b[K     |████████████████████████████████| 204.7MB 74kB/s \n",
      "\u001b[?25hCollecting py4j==0.10.9\n",
      "\u001b[?25l  Downloading https://files.pythonhosted.org/packages/9e/b6/6a4fb90cd235dc8e265a6a2067f2a2c99f0d91787f06aca4bcf7c23f3f80/py4j-0.10.9-py2.py3-none-any.whl (198kB)\n",
      "\u001b[K     |████████████████████████████████| 204kB 36.9MB/s \n",
      "\u001b[?25hBuilding wheels for collected packages: pyspark\n",
      "  Building wheel for pyspark (setup.py) ... \u001b[?25l\u001b[?25hdone\n",
      "  Created wheel for pyspark: filename=pyspark-3.0.0-py2.py3-none-any.whl size=205044182 sha256=b487d4f7c65524a28a8bd632a1c58a32e7ec1ce06c2018f080e0d0ff95e4ed13\n",
      "  Stored in directory: /root/.cache/pip/wheels/57/27/4d/ddacf7143f8d5b76c45c61ee2e43d9f8492fc5a8e78ebd7d37\n",
      "Successfully built pyspark\n",
      "Installing collected packages: py4j, pyspark\n",
      "Successfully installed py4j-0.10.9 pyspark-3.0.0\n"
     ]
    }
   ],
   "source": [
    "!pip install pyspark"
   ]
  },
  {
   "cell_type": "markdown",
   "metadata": {
    "colab_type": "text",
    "id": "E5rqxKPYL-EH"
   },
   "source": [
    "Elephas is an extension of Keras, which allows you to run distributed deep learning models at scale with Spark. To implement deep learning models, Elephas is installed which supports the following versions of Keras and Tensorflow. \n",
    "\n",
    "*   Keras: 2.2.4\n",
    "*   TensorFlow: 1.14.0\n",
    "\n",
    "Thus the above versions are installed and the runtime is restarted to use the new version."
   ]
  },
  {
   "cell_type": "code",
   "execution_count": 1,
   "metadata": {
    "colab": {
     "base_uri": "https://localhost:8080/",
     "height": 994
    },
    "colab_type": "code",
    "id": "8fMM3pZsVsXX",
    "outputId": "c1540d0f-2cdf-405f-d1e1-7ece5579931d"
   },
   "outputs": [
    {
     "name": "stdout",
     "output_type": "stream",
     "text": [
      "Collecting q\n",
      "  Downloading https://files.pythonhosted.org/packages/53/bc/51619d89e0bd855567e7652fa16d06f1ed36a85f108a7fe71f6629bf719d/q-2.6-py2.py3-none-any.whl\n",
      "Collecting keras==2.2.4\n",
      "\u001b[?25l  Downloading https://files.pythonhosted.org/packages/5e/10/aa32dad071ce52b5502266b5c659451cfd6ffcbf14e6c8c4f16c0ff5aaab/Keras-2.2.4-py2.py3-none-any.whl (312kB)\n",
      "\u001b[K     |████████████████████████████████| 317kB 493kB/s \n",
      "\u001b[?25hRequirement already satisfied: numpy>=1.9.1 in /usr/local/lib/python3.6/dist-packages (from keras==2.2.4) (1.18.5)\n",
      "Requirement already satisfied: keras-applications>=1.0.6 in /usr/local/lib/python3.6/dist-packages (from keras==2.2.4) (1.0.8)\n",
      "Requirement already satisfied: keras-preprocessing>=1.0.5 in /usr/local/lib/python3.6/dist-packages (from keras==2.2.4) (1.1.2)\n",
      "Requirement already satisfied: scipy>=0.14 in /usr/local/lib/python3.6/dist-packages (from keras==2.2.4) (1.4.1)\n",
      "Requirement already satisfied: six>=1.9.0 in /usr/local/lib/python3.6/dist-packages (from keras==2.2.4) (1.12.0)\n",
      "Requirement already satisfied: h5py in /usr/local/lib/python3.6/dist-packages (from keras==2.2.4) (2.10.0)\n",
      "Requirement already satisfied: pyyaml in /usr/local/lib/python3.6/dist-packages (from keras==2.2.4) (3.13)\n",
      "Installing collected packages: q, keras\n",
      "  Found existing installation: Keras 2.3.1\n",
      "    Uninstalling Keras-2.3.1:\n",
      "      Successfully uninstalled Keras-2.3.1\n",
      "Successfully installed keras-2.2.4 q-2.6\n",
      "Requirement already satisfied: q in /usr/local/lib/python3.6/dist-packages (2.6)\n",
      "Collecting tensorflow==1.14.0\n",
      "\u001b[?25l  Downloading https://files.pythonhosted.org/packages/de/f0/96fb2e0412ae9692dbf400e5b04432885f677ad6241c088ccc5fe7724d69/tensorflow-1.14.0-cp36-cp36m-manylinux1_x86_64.whl (109.2MB)\n",
      "\u001b[K     |████████████████████████████████| 109.2MB 50kB/s \n",
      "\u001b[?25hRequirement already satisfied: gast>=0.2.0 in /usr/local/lib/python3.6/dist-packages (from tensorflow==1.14.0) (0.3.3)\n",
      "Requirement already satisfied: astor>=0.6.0 in /usr/local/lib/python3.6/dist-packages (from tensorflow==1.14.0) (0.8.1)\n",
      "Requirement already satisfied: keras-applications>=1.0.6 in /usr/local/lib/python3.6/dist-packages (from tensorflow==1.14.0) (1.0.8)\n",
      "Requirement already satisfied: numpy<2.0,>=1.14.5 in /usr/local/lib/python3.6/dist-packages (from tensorflow==1.14.0) (1.18.5)\n",
      "Collecting tensorboard<1.15.0,>=1.14.0\n",
      "\u001b[?25l  Downloading https://files.pythonhosted.org/packages/91/2d/2ed263449a078cd9c8a9ba50ebd50123adf1f8cfbea1492f9084169b89d9/tensorboard-1.14.0-py3-none-any.whl (3.1MB)\n",
      "\u001b[K     |████████████████████████████████| 3.2MB 40.1MB/s \n",
      "\u001b[?25hRequirement already satisfied: keras-preprocessing>=1.0.5 in /usr/local/lib/python3.6/dist-packages (from tensorflow==1.14.0) (1.1.2)\n",
      "Requirement already satisfied: grpcio>=1.8.6 in /usr/local/lib/python3.6/dist-packages (from tensorflow==1.14.0) (1.30.0)\n",
      "Requirement already satisfied: absl-py>=0.7.0 in /usr/local/lib/python3.6/dist-packages (from tensorflow==1.14.0) (0.9.0)\n",
      "Requirement already satisfied: protobuf>=3.6.1 in /usr/local/lib/python3.6/dist-packages (from tensorflow==1.14.0) (3.12.2)\n",
      "Requirement already satisfied: google-pasta>=0.1.6 in /usr/local/lib/python3.6/dist-packages (from tensorflow==1.14.0) (0.2.0)\n",
      "Requirement already satisfied: termcolor>=1.1.0 in /usr/local/lib/python3.6/dist-packages (from tensorflow==1.14.0) (1.1.0)\n",
      "Requirement already satisfied: wrapt>=1.11.1 in /usr/local/lib/python3.6/dist-packages (from tensorflow==1.14.0) (1.12.1)\n",
      "Requirement already satisfied: wheel>=0.26 in /usr/local/lib/python3.6/dist-packages (from tensorflow==1.14.0) (0.34.2)\n",
      "Requirement already satisfied: six>=1.10.0 in /usr/local/lib/python3.6/dist-packages (from tensorflow==1.14.0) (1.12.0)\n",
      "Collecting tensorflow-estimator<1.15.0rc0,>=1.14.0rc0\n",
      "\u001b[?25l  Downloading https://files.pythonhosted.org/packages/3c/d5/21860a5b11caf0678fbc8319341b0ae21a07156911132e0e71bffed0510d/tensorflow_estimator-1.14.0-py2.py3-none-any.whl (488kB)\n",
      "\u001b[K     |████████████████████████████████| 491kB 41.5MB/s \n",
      "\u001b[?25hRequirement already satisfied: h5py in /usr/local/lib/python3.6/dist-packages (from keras-applications>=1.0.6->tensorflow==1.14.0) (2.10.0)\n",
      "Requirement already satisfied: werkzeug>=0.11.15 in /usr/local/lib/python3.6/dist-packages (from tensorboard<1.15.0,>=1.14.0->tensorflow==1.14.0) (1.0.1)\n",
      "Requirement already satisfied: setuptools>=41.0.0 in /usr/local/lib/python3.6/dist-packages (from tensorboard<1.15.0,>=1.14.0->tensorflow==1.14.0) (49.1.0)\n",
      "Requirement already satisfied: markdown>=2.6.8 in /usr/local/lib/python3.6/dist-packages (from tensorboard<1.15.0,>=1.14.0->tensorflow==1.14.0) (3.2.2)\n",
      "Requirement already satisfied: importlib-metadata; python_version < \"3.8\" in /usr/local/lib/python3.6/dist-packages (from markdown>=2.6.8->tensorboard<1.15.0,>=1.14.0->tensorflow==1.14.0) (1.7.0)\n",
      "Requirement already satisfied: zipp>=0.5 in /usr/local/lib/python3.6/dist-packages (from importlib-metadata; python_version < \"3.8\"->markdown>=2.6.8->tensorboard<1.15.0,>=1.14.0->tensorflow==1.14.0) (3.1.0)\n",
      "Installing collected packages: tensorboard, tensorflow-estimator, tensorflow\n",
      "  Found existing installation: tensorboard 2.2.2\n",
      "    Uninstalling tensorboard-2.2.2:\n",
      "      Successfully uninstalled tensorboard-2.2.2\n",
      "  Found existing installation: tensorflow-estimator 2.2.0\n",
      "    Uninstalling tensorflow-estimator-2.2.0:\n",
      "      Successfully uninstalled tensorflow-estimator-2.2.0\n",
      "  Found existing installation: tensorflow 2.2.0\n",
      "    Uninstalling tensorflow-2.2.0:\n",
      "      Successfully uninstalled tensorflow-2.2.0\n",
      "Successfully installed tensorboard-1.14.0 tensorflow-1.14.0 tensorflow-estimator-1.14.0\n"
     ]
    }
   ],
   "source": [
    "!pip install q keras==2.2.4\n",
    "!pip install q tensorflow==1.14.0"
   ]
  },
  {
   "cell_type": "code",
   "execution_count": 2,
   "metadata": {
    "colab": {
     "base_uri": "https://localhost:8080/",
     "height": 490
    },
    "colab_type": "code",
    "id": "Ef5UUy5BVtlz",
    "outputId": "4b088f13-5cc3-4bb1-e7dc-4a5e9d96783d"
   },
   "outputs": [
    {
     "name": "stdout",
     "output_type": "stream",
     "text": [
      "2.2.4\n",
      "1.14.0\n"
     ]
    }
   ],
   "source": [
    "import keras\n",
    "import tensorflow\n",
    "\n",
    "print(keras.__version__)\n",
    "print(tensorflow.__version__)"
   ]
  },
  {
   "cell_type": "markdown",
   "metadata": {
    "colab_type": "text",
    "id": "Lw9uQf_9i3Vn"
   },
   "source": [
    "Install elephas to integrate Keras with Apache Spark using !pip install elephas"
   ]
  },
  {
   "cell_type": "code",
   "execution_count": 4,
   "metadata": {
    "colab": {
     "base_uri": "https://localhost:8080/",
     "height": 1000
    },
    "colab_type": "code",
    "id": "I-AYhjdNV7dY",
    "outputId": "9ea11674-1493-4b35-db03-a20a47b1435c"
   },
   "outputs": [
    {
     "name": "stdout",
     "output_type": "stream",
     "text": [
      "Collecting elephas\n",
      "  Downloading https://files.pythonhosted.org/packages/d9/f7/4b1542d95ad17fefff5cfbc0df732f8b082c758ed48d1738768df5cec4da/elephas-0.4.3-py3-none-any.whl\n",
      "Requirement already satisfied: keras in /usr/local/lib/python3.6/dist-packages (from elephas) (2.2.4)\n",
      "Requirement already satisfied: cython in /usr/local/lib/python3.6/dist-packages (from elephas) (0.29.21)\n",
      "Requirement already satisfied: pyspark in /usr/local/lib/python3.6/dist-packages (from elephas) (3.0.0)\n",
      "Requirement already satisfied: flask in /usr/local/lib/python3.6/dist-packages (from elephas) (1.1.2)\n",
      "Requirement already satisfied: six in /usr/local/lib/python3.6/dist-packages (from elephas) (1.12.0)\n",
      "Collecting hyperas\n",
      "  Downloading https://files.pythonhosted.org/packages/04/34/87ad6ffb42df9c1fa9c4c906f65813d42ad70d68c66af4ffff048c228cd4/hyperas-0.4.1-py3-none-any.whl\n",
      "Requirement already satisfied: tensorflow in /usr/local/lib/python3.6/dist-packages (from elephas) (1.14.0)\n",
      "Requirement already satisfied: pyyaml in /usr/local/lib/python3.6/dist-packages (from keras->elephas) (3.13)\n",
      "Requirement already satisfied: keras-applications>=1.0.6 in /usr/local/lib/python3.6/dist-packages (from keras->elephas) (1.0.8)\n",
      "Requirement already satisfied: keras-preprocessing>=1.0.5 in /usr/local/lib/python3.6/dist-packages (from keras->elephas) (1.1.2)\n",
      "Requirement already satisfied: numpy>=1.9.1 in /usr/local/lib/python3.6/dist-packages (from keras->elephas) (1.18.5)\n",
      "Requirement already satisfied: h5py in /usr/local/lib/python3.6/dist-packages (from keras->elephas) (2.10.0)\n",
      "Requirement already satisfied: scipy>=0.14 in /usr/local/lib/python3.6/dist-packages (from keras->elephas) (1.4.1)\n",
      "Requirement already satisfied: py4j==0.10.9 in /usr/local/lib/python3.6/dist-packages (from pyspark->elephas) (0.10.9)\n",
      "Requirement already satisfied: Jinja2>=2.10.1 in /usr/local/lib/python3.6/dist-packages (from flask->elephas) (2.11.2)\n",
      "Requirement already satisfied: Werkzeug>=0.15 in /usr/local/lib/python3.6/dist-packages (from flask->elephas) (1.0.1)\n",
      "Requirement already satisfied: click>=5.1 in /usr/local/lib/python3.6/dist-packages (from flask->elephas) (7.1.2)\n",
      "Requirement already satisfied: itsdangerous>=0.24 in /usr/local/lib/python3.6/dist-packages (from flask->elephas) (1.1.0)\n",
      "Requirement already satisfied: nbformat in /usr/local/lib/python3.6/dist-packages (from hyperas->elephas) (5.0.7)\n",
      "Requirement already satisfied: jupyter in /usr/local/lib/python3.6/dist-packages (from hyperas->elephas) (1.0.0)\n",
      "Requirement already satisfied: hyperopt in /usr/local/lib/python3.6/dist-packages (from hyperas->elephas) (0.1.2)\n",
      "Requirement already satisfied: nbconvert in /usr/local/lib/python3.6/dist-packages (from hyperas->elephas) (5.6.1)\n",
      "Requirement already satisfied: entrypoints in /usr/local/lib/python3.6/dist-packages (from hyperas->elephas) (0.3)\n",
      "Requirement already satisfied: wrapt>=1.11.1 in /usr/local/lib/python3.6/dist-packages (from tensorflow->elephas) (1.12.1)\n",
      "Requirement already satisfied: protobuf>=3.6.1 in /usr/local/lib/python3.6/dist-packages (from tensorflow->elephas) (3.12.2)\n",
      "Requirement already satisfied: gast>=0.2.0 in /usr/local/lib/python3.6/dist-packages (from tensorflow->elephas) (0.3.3)\n",
      "Requirement already satisfied: astor>=0.6.0 in /usr/local/lib/python3.6/dist-packages (from tensorflow->elephas) (0.8.1)\n",
      "Requirement already satisfied: tensorboard<1.15.0,>=1.14.0 in /usr/local/lib/python3.6/dist-packages (from tensorflow->elephas) (1.14.0)\n",
      "Requirement already satisfied: wheel>=0.26 in /usr/local/lib/python3.6/dist-packages (from tensorflow->elephas) (0.34.2)\n",
      "Requirement already satisfied: tensorflow-estimator<1.15.0rc0,>=1.14.0rc0 in /usr/local/lib/python3.6/dist-packages (from tensorflow->elephas) (1.14.0)\n",
      "Requirement already satisfied: google-pasta>=0.1.6 in /usr/local/lib/python3.6/dist-packages (from tensorflow->elephas) (0.2.0)\n",
      "Requirement already satisfied: grpcio>=1.8.6 in /usr/local/lib/python3.6/dist-packages (from tensorflow->elephas) (1.30.0)\n",
      "Requirement already satisfied: absl-py>=0.7.0 in /usr/local/lib/python3.6/dist-packages (from tensorflow->elephas) (0.9.0)\n",
      "Requirement already satisfied: termcolor>=1.1.0 in /usr/local/lib/python3.6/dist-packages (from tensorflow->elephas) (1.1.0)\n",
      "Requirement already satisfied: MarkupSafe>=0.23 in /usr/local/lib/python3.6/dist-packages (from Jinja2>=2.10.1->flask->elephas) (1.1.1)\n",
      "Requirement already satisfied: jupyter-core in /usr/local/lib/python3.6/dist-packages (from nbformat->hyperas->elephas) (4.6.3)\n",
      "Requirement already satisfied: traitlets>=4.1 in /usr/local/lib/python3.6/dist-packages (from nbformat->hyperas->elephas) (4.3.3)\n",
      "Requirement already satisfied: jsonschema!=2.5.0,>=2.4 in /usr/local/lib/python3.6/dist-packages (from nbformat->hyperas->elephas) (2.6.0)\n",
      "Requirement already satisfied: ipython-genutils in /usr/local/lib/python3.6/dist-packages (from nbformat->hyperas->elephas) (0.2.0)\n",
      "Requirement already satisfied: qtconsole in /usr/local/lib/python3.6/dist-packages (from jupyter->hyperas->elephas) (4.7.5)\n",
      "Requirement already satisfied: notebook in /usr/local/lib/python3.6/dist-packages (from jupyter->hyperas->elephas) (5.2.2)\n",
      "Requirement already satisfied: ipywidgets in /usr/local/lib/python3.6/dist-packages (from jupyter->hyperas->elephas) (7.5.1)\n",
      "Requirement already satisfied: jupyter-console in /usr/local/lib/python3.6/dist-packages (from jupyter->hyperas->elephas) (5.2.0)\n",
      "Requirement already satisfied: ipykernel in /usr/local/lib/python3.6/dist-packages (from jupyter->hyperas->elephas) (4.10.1)\n",
      "Requirement already satisfied: networkx in /usr/local/lib/python3.6/dist-packages (from hyperopt->hyperas->elephas) (2.4)\n",
      "Requirement already satisfied: pymongo in /usr/local/lib/python3.6/dist-packages (from hyperopt->hyperas->elephas) (3.10.1)\n",
      "Requirement already satisfied: tqdm in /usr/local/lib/python3.6/dist-packages (from hyperopt->hyperas->elephas) (4.41.1)\n",
      "Requirement already satisfied: future in /usr/local/lib/python3.6/dist-packages (from hyperopt->hyperas->elephas) (0.16.0)\n",
      "Requirement already satisfied: pandocfilters>=1.4.1 in /usr/local/lib/python3.6/dist-packages (from nbconvert->hyperas->elephas) (1.4.2)\n",
      "Requirement already satisfied: defusedxml in /usr/local/lib/python3.6/dist-packages (from nbconvert->hyperas->elephas) (0.6.0)\n",
      "Requirement already satisfied: bleach in /usr/local/lib/python3.6/dist-packages (from nbconvert->hyperas->elephas) (3.1.5)\n",
      "Requirement already satisfied: pygments in /usr/local/lib/python3.6/dist-packages (from nbconvert->hyperas->elephas) (2.1.3)\n",
      "Requirement already satisfied: mistune<2,>=0.8.1 in /usr/local/lib/python3.6/dist-packages (from nbconvert->hyperas->elephas) (0.8.4)\n",
      "Requirement already satisfied: testpath in /usr/local/lib/python3.6/dist-packages (from nbconvert->hyperas->elephas) (0.4.4)\n",
      "Requirement already satisfied: setuptools in /usr/local/lib/python3.6/dist-packages (from protobuf>=3.6.1->tensorflow->elephas) (49.1.0)\n",
      "Requirement already satisfied: markdown>=2.6.8 in /usr/local/lib/python3.6/dist-packages (from tensorboard<1.15.0,>=1.14.0->tensorflow->elephas) (3.2.2)\n",
      "Requirement already satisfied: decorator in /usr/local/lib/python3.6/dist-packages (from traitlets>=4.1->nbformat->hyperas->elephas) (4.4.2)\n",
      "Requirement already satisfied: pyzmq>=17.1 in /usr/local/lib/python3.6/dist-packages (from qtconsole->jupyter->hyperas->elephas) (19.0.1)\n",
      "Requirement already satisfied: jupyter-client>=4.1 in /usr/local/lib/python3.6/dist-packages (from qtconsole->jupyter->hyperas->elephas) (5.3.5)\n",
      "Requirement already satisfied: qtpy in /usr/local/lib/python3.6/dist-packages (from qtconsole->jupyter->hyperas->elephas) (1.9.0)\n",
      "Requirement already satisfied: terminado>=0.3.3; sys_platform != \"win32\" in /usr/local/lib/python3.6/dist-packages (from notebook->jupyter->hyperas->elephas) (0.8.3)\n",
      "Requirement already satisfied: tornado>=4 in /usr/local/lib/python3.6/dist-packages (from notebook->jupyter->hyperas->elephas) (4.5.3)\n",
      "Requirement already satisfied: ipython>=4.0.0; python_version >= \"3.3\" in /usr/local/lib/python3.6/dist-packages (from ipywidgets->jupyter->hyperas->elephas) (5.5.0)\n",
      "Requirement already satisfied: widgetsnbextension~=3.5.0 in /usr/local/lib/python3.6/dist-packages (from ipywidgets->jupyter->hyperas->elephas) (3.5.1)\n",
      "Requirement already satisfied: prompt-toolkit<2.0.0,>=1.0.0 in /usr/local/lib/python3.6/dist-packages (from jupyter-console->jupyter->hyperas->elephas) (1.0.18)\n",
      "Requirement already satisfied: packaging in /usr/local/lib/python3.6/dist-packages (from bleach->nbconvert->hyperas->elephas) (20.4)\n",
      "Requirement already satisfied: webencodings in /usr/local/lib/python3.6/dist-packages (from bleach->nbconvert->hyperas->elephas) (0.5.1)\n",
      "Requirement already satisfied: importlib-metadata; python_version < \"3.8\" in /usr/local/lib/python3.6/dist-packages (from markdown>=2.6.8->tensorboard<1.15.0,>=1.14.0->tensorflow->elephas) (1.7.0)\n",
      "Requirement already satisfied: python-dateutil>=2.1 in /usr/local/lib/python3.6/dist-packages (from jupyter-client>=4.1->qtconsole->jupyter->hyperas->elephas) (2.8.1)\n",
      "Requirement already satisfied: ptyprocess; os_name != \"nt\" in /usr/local/lib/python3.6/dist-packages (from terminado>=0.3.3; sys_platform != \"win32\"->notebook->jupyter->hyperas->elephas) (0.6.0)\n",
      "Requirement already satisfied: simplegeneric>0.8 in /usr/local/lib/python3.6/dist-packages (from ipython>=4.0.0; python_version >= \"3.3\"->ipywidgets->jupyter->hyperas->elephas) (0.8.1)\n",
      "Requirement already satisfied: pexpect; sys_platform != \"win32\" in /usr/local/lib/python3.6/dist-packages (from ipython>=4.0.0; python_version >= \"3.3\"->ipywidgets->jupyter->hyperas->elephas) (4.8.0)\n",
      "Requirement already satisfied: pickleshare in /usr/local/lib/python3.6/dist-packages (from ipython>=4.0.0; python_version >= \"3.3\"->ipywidgets->jupyter->hyperas->elephas) (0.7.5)\n",
      "Requirement already satisfied: wcwidth in /usr/local/lib/python3.6/dist-packages (from prompt-toolkit<2.0.0,>=1.0.0->jupyter-console->jupyter->hyperas->elephas) (0.2.5)\n",
      "Requirement already satisfied: pyparsing>=2.0.2 in /usr/local/lib/python3.6/dist-packages (from packaging->bleach->nbconvert->hyperas->elephas) (2.4.7)\n",
      "Requirement already satisfied: zipp>=0.5 in /usr/local/lib/python3.6/dist-packages (from importlib-metadata; python_version < \"3.8\"->markdown>=2.6.8->tensorboard<1.15.0,>=1.14.0->tensorflow->elephas) (3.1.0)\n",
      "Installing collected packages: hyperas, elephas\n",
      "Successfully installed elephas-0.4.3 hyperas-0.4.1\n"
     ]
    }
   ],
   "source": [
    "!pip install elephas"
   ]
  },
  {
   "cell_type": "markdown",
   "metadata": {
    "colab_type": "text",
    "id": "1T5GNiYERbvf"
   },
   "source": [
    "The data for this project is taken from Kaggle: Fake and real news dataset. Steps to follow to download data from kaggle directly into jupyter notebook:\n",
    "\n",
    "1. Install kaggle using pip command\n",
    "2. Navigate to presonal kaggle account and click Create New API Token, a json file is downloaded into the system.\n",
    "3. Upload the file into the notebook using file.upload command\n",
    "4. Make a directory called Kaggle and copy the file into the directory. Change the permissions of the file using the below commands. \n",
    "       !mkdir -p ~/.kaggle\n",
    "       !cp kaggle.json ~/.kaggle/\n",
    "       !chmod 600 ~/.kaggle/kaggle.json\n",
    "5. Navigate to the Kaggle dataset page and click on the 3 dots on the right hand side of the page. Click on Copy API command and paste in the notebook cell to download the data. It looks something as below:\n",
    "        !kaggle datasets download -d clmentbisaillon/fake-and-real-news-dataset\n",
    "6. Using unzip command, the data is unzipped and the files are chekced using !ls command."
   ]
  },
  {
   "cell_type": "code",
   "execution_count": 5,
   "metadata": {
    "colab": {
     "base_uri": "https://localhost:8080/",
     "height": 90,
     "resources": {
      "http://localhost:8080/nbextensions/google.colab/files.js": {
       "data": "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",
       "headers": [
        [
         "content-type",
         "application/javascript"
        ]
       ],
       "ok": true,
       "status": 200,
       "status_text": ""
      }
     }
    },
    "colab_type": "code",
    "id": "B6EjrPIcDF2h",
    "outputId": "5aaf0240-f2b9-4018-eb4f-e752ed115610"
   },
   "outputs": [
    {
     "data": {
      "text/html": [
       "\n",
       "     <input type=\"file\" id=\"files-a1b3b780-9555-41e1-9a77-84f0912b5334\" name=\"files[]\" multiple disabled\n",
       "        style=\"border:none\" />\n",
       "     <output id=\"result-a1b3b780-9555-41e1-9a77-84f0912b5334\">\n",
       "      Upload widget is only available when the cell has been executed in the\n",
       "      current browser session. Please rerun this cell to enable.\n",
       "      </output>\n",
       "      <script src=\"/nbextensions/google.colab/files.js\"></script> "
      ],
      "text/plain": [
       "<IPython.core.display.HTML object>"
      ]
     },
     "metadata": {
      "tags": []
     },
     "output_type": "display_data"
    },
    {
     "name": "stdout",
     "output_type": "stream",
     "text": [
      "Saving kaggle.json to kaggle.json\n"
     ]
    },
    {
     "data": {
      "text/plain": [
       "{'kaggle.json': b'{\"username\":\"rashmigrp\",\"key\":\"842c46e1bfdfcdb1a382cda3e783a72e\"}'}"
      ]
     },
     "execution_count": 5,
     "metadata": {
      "tags": []
     },
     "output_type": "execute_result"
    }
   ],
   "source": [
    "from google.colab import files\n",
    "#upload the kaggle.json file\n",
    "files.upload()"
   ]
  },
  {
   "cell_type": "code",
   "execution_count": 6,
   "metadata": {
    "colab": {},
    "colab_type": "code",
    "id": "GTyFwpV5DbFZ"
   },
   "outputs": [],
   "source": [
    "#make a directory and copy the json file\n",
    "!mkdir -p ~/.kaggle\n",
    "!cp kaggle.json ~/.kaggle/\n",
    "\n",
    "#change permission to 600: the owner has full read and write access to the file, while no other user can access the file\n",
    "!chmod 600 ~/.kaggle/kaggle.json"
   ]
  },
  {
   "cell_type": "code",
   "execution_count": 7,
   "metadata": {
    "colab": {
     "base_uri": "https://localhost:8080/",
     "height": 67
    },
    "colab_type": "code",
    "id": "jWxL5vxqDrzA",
    "outputId": "077aad54-ae0c-4228-8dde-7e5b405f58d0"
   },
   "outputs": [
    {
     "name": "stdout",
     "output_type": "stream",
     "text": [
      "Downloading fake-and-real-news-dataset.zip to /content\n",
      " 81% 33.0M/41.0M [00:00<00:00, 50.4MB/s]\n",
      "100% 41.0M/41.0M [00:00<00:00, 92.5MB/s]\n"
     ]
    }
   ],
   "source": [
    "#https://www.kaggle.com/clmentbisaillon/fake-and-real-news-dataset\n",
    "#download the data using Copy API command from the data page\n",
    "!kaggle datasets download -d clmentbisaillon/fake-and-real-news-dataset"
   ]
  },
  {
   "cell_type": "code",
   "execution_count": 8,
   "metadata": {
    "colab": {
     "base_uri": "https://localhost:8080/",
     "height": 34
    },
    "colab_type": "code",
    "id": "b-R4bVzrEJgv",
    "outputId": "1e49f52c-ae9c-4579-e2d0-3f088119deff"
   },
   "outputs": [
    {
     "name": "stdout",
     "output_type": "stream",
     "text": [
      "fake-and-real-news-dataset.zip\tkaggle.json  sample_data\n"
     ]
    }
   ],
   "source": [
    "#list the files present\n",
    "!ls"
   ]
  },
  {
   "cell_type": "code",
   "execution_count": 10,
   "metadata": {
    "colab": {
     "base_uri": "https://localhost:8080/",
     "height": 67
    },
    "colab_type": "code",
    "id": "AO1Dd8CbEPUm",
    "outputId": "52c9aecc-145e-4549-d65b-99d1aada9797"
   },
   "outputs": [
    {
     "name": "stdout",
     "output_type": "stream",
     "text": [
      "Archive:  fake-and-real-news-dataset.zip\n",
      "  inflating: Fake.csv                \n",
      "  inflating: True.csv                \n"
     ]
    }
   ],
   "source": [
    "#unzip the fake news data\n",
    "!unzip \\*.zip"
   ]
  },
  {
   "cell_type": "code",
   "execution_count": 11,
   "metadata": {
    "colab": {
     "base_uri": "https://localhost:8080/",
     "height": 34
    },
    "colab_type": "code",
    "id": "NYFOcGLtES8u",
    "outputId": "aa2a599a-5a4f-420e-efb5-0b3e6c64eb7d"
   },
   "outputs": [
    {
     "name": "stdout",
     "output_type": "stream",
     "text": [
      "fake-and-real-news-dataset.zip\tFake.csv  kaggle.json  sample_data  True.csv\n"
     ]
    }
   ],
   "source": [
    "#check for the unzipped files\n",
    "!ls"
   ]
  },
  {
   "cell_type": "markdown",
   "metadata": {
    "colab_type": "text",
    "id": "V9E88M4fTpWV"
   },
   "source": [
    "**2. Import statements and load the data**\n",
    "\n",
    "**2.1 Import the libraries**\n",
    "\n",
    "The necessary libraries and modules are imported. The main import statements are:\n",
    "\n",
    "1. SparkContext: Main entry point for Spark functionality. A SparkContext represents the connection to a Spark cluster, and can be used to create RDD and broadcast variables on that cluster\n",
    "2. SparkConf: For configuring Spark and Used to set various Spark parameters as key-value pairs\n",
    "3. SQLContext: The entry point into all relational functionality in Spark is the SQLContext class. To create a basic SQLContext, all needed is a SparkContext."
   ]
  },
  {
   "cell_type": "code",
   "execution_count": 12,
   "metadata": {
    "colab": {
     "base_uri": "https://localhost:8080/",
     "height": 34
    },
    "colab_type": "code",
    "id": "9vU9wKE5x2iL",
    "outputId": "c92be8c8-0e35-4707-ee38-a138a5f63b97"
   },
   "outputs": [
    {
     "name": "stdout",
     "output_type": "stream",
     "text": [
      "WARNING\n"
     ]
    }
   ],
   "source": [
    "from pyspark import SparkContext, SparkConf\n",
    "from pyspark.sql import SQLContext, SparkSession\n",
    "from pyspark.sql import *\n",
    "from pyspark.sql.functions import isnan, when, count, col, udf,  lower, regexp_replace, rand, round, lit\n",
    "from pyspark.ml.feature import RegexTokenizer, StopWordsRemover, StringIndexer, HashingTF, IDF, IndexToString, Word2Vec, Tokenizer\n",
    "from pyspark.sql.types import IntegerType\n",
    "from pyspark.ml import Pipeline\n",
    "from pyspark.ml.tuning import ParamGridBuilder, CrossValidator\n",
    "from pyspark.ml.evaluation import BinaryClassificationEvaluator\n",
    "from pyspark.ml.classification import RandomForestClassifier\n",
    "from pyspark.ml.classification import NaiveBayes\n",
    "from pyspark.ml.classification import GBTClassifier\n",
    "from pyspark.ml.evaluation import MulticlassClassificationEvaluator\n",
    "from pyspark.mllib.evaluation import MulticlassMetrics, BinaryClassificationMetrics\n",
    "from keras.models import Sequential\n",
    "from keras.layers.core import Dense, Dropout, Activation\n",
    "from keras import optimizers, regularizers\n",
    "from keras.optimizers import Adam\n",
    "import keras\n",
    "from elephas.spark_model import SparkModel\n",
    "from elephas.ml_model import ElephasEstimator\n",
    "import matplotlib.pyplot as plt\n",
    "import numpy as np"
   ]
  },
  {
   "cell_type": "code",
   "execution_count": 13,
   "metadata": {
    "colab": {},
    "colab_type": "code",
    "id": "sfQD9r7UkckQ"
   },
   "outputs": [],
   "source": [
    "#create a SparkConf with the following attributes:\n",
    "#setAppName: Set application name\n",
    "#setMaster: Set master URL to connect to\n",
    "#spark driver memory is a flag that controls the amount of memory to allocate for a driver, which is 1GB by default. It is\n",
    "#set to 15g to accomadate the text processing and training of models\n",
    "conf = SparkConf().setAppName('Fake_news_detection').setMaster('local[6]').set('spark.driver.memory', '15g')\n",
    "\n",
    "#create an entry point using SparkConf: conf\n",
    "sc = SparkContext(conf=conf)\n",
    "\n",
    "#SQLcontext is created using sc for realational functionality\n",
    "sql_context = SQLContext(sc)\n",
    "\n",
    "#spark = SparkSession.builder.getOrCreate()"
   ]
  },
  {
   "cell_type": "markdown",
   "metadata": {
    "colab_type": "text",
    "id": "DydwmdOylkev"
   },
   "source": [
    "**2.2 Load the data**\n",
    "\n",
    "The dataset is divided into two CSV files: Fake News and Real News. The two files are read individually and joined together to a single dataset. The target feature for Real data is set to True and Fake data is set to false. \n",
    "\n",
    "sql_context.read.csv is used to read the csv files"
   ]
  },
  {
   "cell_type": "code",
   "execution_count": 14,
   "metadata": {
    "colab": {},
    "colab_type": "code",
    "id": "kEXUiQVtyZQp"
   },
   "outputs": [],
   "source": [
    "#read the real news data\n",
    "true_data = sql_context.read.csv('True.csv', header = True, inferSchema = True)"
   ]
  },
  {
   "cell_type": "markdown",
   "metadata": {
    "colab_type": "text",
    "id": "D6I3D4v9m7r_"
   },
   "source": [
    "New column: target is created using withColumn and lit() funcitons.\n",
    "\n",
    "        withColumn: Returns a new DataFrame by adding a column or replacing the existing column that has the same name. \n",
    "        Parameters:\tcolName: string, name of the new column.\n",
    "                       col: a Column expression for the new column.\n",
    "        lit() function is used for column expression. It is a way for us to interact with column literals in PySpark"
   ]
  },
  {
   "cell_type": "code",
   "execution_count": 15,
   "metadata": {
    "colab": {
     "base_uri": "https://localhost:8080/",
     "height": 202
    },
    "colab_type": "code",
    "id": "vny3FbEYnpih",
    "outputId": "18260739-fa10-4078-a8ab-6adea1de2a57"
   },
   "outputs": [
    {
     "name": "stdout",
     "output_type": "stream",
     "text": [
      "+--------------------+--------------------+------------+------------------+------+\n",
      "|               title|                text|     subject|              date|target|\n",
      "+--------------------+--------------------+------------+------------------+------+\n",
      "|As U.S. budget fi...|WASHINGTON (Reute...|politicsNews|December 31, 2017 |  True|\n",
      "|U.S. military to ...|WASHINGTON (Reute...|politicsNews|December 29, 2017 |  True|\n",
      "|Senior U.S. Repub...|WASHINGTON (Reute...|politicsNews|December 31, 2017 |  True|\n",
      "|FBI Russia probe ...|WASHINGTON (Reute...|politicsNews|December 30, 2017 |  True|\n",
      "|Trump wants Posta...|SEATTLE/WASHINGTO...|politicsNews|December 29, 2017 |  True|\n",
      "+--------------------+--------------------+------------+------------------+------+\n",
      "only showing top 5 rows\n",
      "\n"
     ]
    }
   ],
   "source": [
    "#create a new column \"target\" with values as True\n",
    "true_data = true_data.withColumn(\"target\", lit(\"True\"))\n",
    "\n",
    "#display the true news data\n",
    "true_data.show(5)"
   ]
  },
  {
   "cell_type": "code",
   "execution_count": 16,
   "metadata": {
    "colab": {
     "base_uri": "https://localhost:8080/",
     "height": 34
    },
    "colab_type": "code",
    "id": "lMDrzQu1TRi8",
    "outputId": "d0e25cc5-509a-4888-c9ff-12e04c17e799"
   },
   "outputs": [
    {
     "data": {
      "text/plain": [
       "21417"
      ]
     },
     "execution_count": 16,
     "metadata": {
      "tags": []
     },
     "output_type": "execute_result"
    }
   ],
   "source": [
    "#check the length of the true data\n",
    "true_data.count()"
   ]
  },
  {
   "cell_type": "code",
   "execution_count": 17,
   "metadata": {
    "colab": {},
    "colab_type": "code",
    "id": "hgu7BQ5-yg_J"
   },
   "outputs": [],
   "source": [
    "#read the fake news data\n",
    "fake_data = sql_context.read.csv('Fake.csv', header=True, inferSchema=True)"
   ]
  },
  {
   "cell_type": "code",
   "execution_count": 18,
   "metadata": {
    "colab": {
     "base_uri": "https://localhost:8080/",
     "height": 202
    },
    "colab_type": "code",
    "id": "KFyGGXqARqHd",
    "outputId": "7bb2af9c-acb1-4fe0-996f-67004f6e9be5"
   },
   "outputs": [
    {
     "name": "stdout",
     "output_type": "stream",
     "text": [
      "+--------------------+--------------------+-------+-----------------+------+\n",
      "|               title|                text|subject|             date|target|\n",
      "+--------------------+--------------------+-------+-----------------+------+\n",
      "| Donald Trump Sen...|Donald Trump just...|   News|December 31, 2017|  Fake|\n",
      "| Drunk Bragging T...|House Intelligenc...|   News|December 31, 2017|  Fake|\n",
      "| Sheriff David Cl...|On Friday, it was...|   News|December 30, 2017|  Fake|\n",
      "| Trump Is So Obse...|On Christmas day,...|   News|December 29, 2017|  Fake|\n",
      "| Pope Francis Jus...|Pope Francis used...|   News|December 25, 2017|  Fake|\n",
      "+--------------------+--------------------+-------+-----------------+------+\n",
      "only showing top 5 rows\n",
      "\n"
     ]
    }
   ],
   "source": [
    "#create a new column \"target\" with values as Fake\n",
    "fake_data = fake_data.withColumn(\"target\", lit(\"Fake\"))\n",
    "\n",
    "#display the fake news data\n",
    "fake_data.show(5)"
   ]
  },
  {
   "cell_type": "code",
   "execution_count": 19,
   "metadata": {
    "colab": {
     "base_uri": "https://localhost:8080/",
     "height": 34
    },
    "colab_type": "code",
    "id": "Yzte3kKwTUcl",
    "outputId": "51443983-d551-4f0e-aa2e-bf53e0c4d999"
   },
   "outputs": [
    {
     "data": {
      "text/plain": [
       "23489"
      ]
     },
     "execution_count": 19,
     "metadata": {
      "tags": []
     },
     "output_type": "execute_result"
    }
   ],
   "source": [
    "#check the length of fake news \n",
    "fake_data.count()"
   ]
  },
  {
   "cell_type": "code",
   "execution_count": 20,
   "metadata": {
    "colab": {},
    "colab_type": "code",
    "id": "KGzah0bOSq8k"
   },
   "outputs": [],
   "source": [
    "#concatanate fake and real news using union function \n",
    "data = true_data.union(fake_data)"
   ]
  },
  {
   "cell_type": "code",
   "execution_count": 21,
   "metadata": {
    "colab": {},
    "colab_type": "code",
    "id": "xSMJFfbLRhPe"
   },
   "outputs": [],
   "source": [
    "#shuffle the data\n",
    "data = data.orderBy(rand())"
   ]
  },
  {
   "cell_type": "code",
   "execution_count": 22,
   "metadata": {
    "colab": {
     "base_uri": "https://localhost:8080/",
     "height": 202
    },
    "colab_type": "code",
    "id": "YysbEPq4S63L",
    "outputId": "b348228a-7d51-450a-ad8e-b84b2011e687"
   },
   "outputs": [
    {
     "name": "stdout",
     "output_type": "stream",
     "text": [
      "+--------------------+--------------------+---------------+------------------+------+\n",
      "|               title|                text|        subject|              date|target|\n",
      "+--------------------+--------------------+---------------+------------------+------+\n",
      "|MCCAIN NEEDS TO G...|Sen. John McCain(...|Government News|      Feb 19, 2017|  Fake|\n",
      "| Eric Trump: Hisp...|Donald Trump s so...|           News|      May 12, 2016|  Fake|\n",
      "|WOW! New Email (P...|Who s Ready For H...|Government News|       Oct 2, 2015|  Fake|\n",
      "|Saudi foreign min...|LONDON (Reuters) ...|      worldnews| October 24, 2017 |  True|\n",
      "|U.S.-backed Syria...|BEIRUT (Reuters) ...|      worldnews|December 11, 2017 |  True|\n",
      "+--------------------+--------------------+---------------+------------------+------+\n",
      "only showing top 5 rows\n",
      "\n"
     ]
    }
   ],
   "source": [
    "#dispaly the combined data\n",
    "data.show(5)"
   ]
  },
  {
   "cell_type": "code",
   "execution_count": 23,
   "metadata": {
    "colab": {
     "base_uri": "https://localhost:8080/",
     "height": 34
    },
    "colab_type": "code",
    "id": "r72POcaES8Wq",
    "outputId": "f5fe187a-3825-47e6-d6d8-1c539d3f6684"
   },
   "outputs": [
    {
     "name": "stdout",
     "output_type": "stream",
     "text": [
      "The length of the data: 44906\n"
     ]
    }
   ],
   "source": [
    "#check the length of combined data\n",
    "print(\"The length of the data: \" +str(data.count()))"
   ]
  },
  {
   "cell_type": "code",
   "execution_count": 24,
   "metadata": {
    "colab": {
     "base_uri": "https://localhost:8080/",
     "height": 134
    },
    "colab_type": "code",
    "id": "4EUXa2ptzSYc",
    "outputId": "aeb20c95-0f32-4a10-a398-49a6ad361303"
   },
   "outputs": [
    {
     "name": "stdout",
     "output_type": "stream",
     "text": [
      "root\n",
      " |-- title: string (nullable = true)\n",
      " |-- text: string (nullable = true)\n",
      " |-- subject: string (nullable = true)\n",
      " |-- date: string (nullable = true)\n",
      " |-- target: string (nullable = false)\n",
      "\n"
     ]
    }
   ],
   "source": [
    "#print the schema of the data\n",
    "data.printSchema()"
   ]
  },
  {
   "cell_type": "markdown",
   "metadata": {
    "colab_type": "text",
    "id": "xzgKiKyl0Hdr"
   },
   "source": [
    "This shows all the columns of the data are string type and descriptive features columns can be null but the target feature cannot be null."
   ]
  },
  {
   "cell_type": "markdown",
   "metadata": {
    "colab_type": "text",
    "id": "XGtHUJofpByv"
   },
   "source": [
    "**3. Data Exploration**\n",
    "\n",
    "This section explores the data by answering the follwoing questions:\n",
    "\n",
    "1. What is count of Fake and Real news?\n",
    "2. What is the count of news based on subject?\n"
   ]
  },
  {
   "cell_type": "code",
   "execution_count": 25,
   "metadata": {
    "colab": {
     "base_uri": "https://localhost:8080/",
     "height": 134
    },
    "colab_type": "code",
    "id": "nEZek0unr3ub",
    "outputId": "629497e0-6c24-48ea-ad03-06016fbdffb5"
   },
   "outputs": [
    {
     "name": "stdout",
     "output_type": "stream",
     "text": [
      "+------+-----+\n",
      "|target|count|\n",
      "+------+-----+\n",
      "|  Fake|23489|\n",
      "|  True|21417|\n",
      "+------+-----+\n",
      "\n"
     ]
    }
   ],
   "source": [
    "#The count of fake and real news present in the data\n",
    "data.groupBy('target').count().show()"
   ]
  },
  {
   "cell_type": "markdown",
   "metadata": {
    "colab_type": "text",
    "id": "6DrScUhbpmT1"
   },
   "source": [
    "The above count shows that the ratio is nearly 1:1 indicating it is a balanced dataset."
   ]
  },
  {
   "cell_type": "code",
   "execution_count": 26,
   "metadata": {
    "colab": {
     "base_uri": "https://localhost:8080/",
     "height": 202
    },
    "colab_type": "code",
    "id": "DMcEx-6psnUL",
    "outputId": "f99292ed-e54f-4b03-99f5-f8039b3368ca"
   },
   "outputs": [
    {
     "name": "stdout",
     "output_type": "stream",
     "text": [
      "+------------+-----+\n",
      "|     subject|count|\n",
      "+------------+-----+\n",
      "|politicsNews|11209|\n",
      "|   worldnews|10115|\n",
      "|        News| 8501|\n",
      "|    politics| 6525|\n",
      "|   left-news| 4216|\n",
      "+------------+-----+\n",
      "only showing top 5 rows\n",
      "\n"
     ]
    }
   ],
   "source": [
    "#Count of news based on subject\n",
    "data.groupBy(\"subject\" ) \\\n",
    "    .count() \\\n",
    "    .orderBy(col(\"count\").desc()) \\\n",
    "    .show(5)"
   ]
  },
  {
   "cell_type": "markdown",
   "metadata": {
    "colab_type": "text",
    "id": "r_VfDKyjp9l3"
   },
   "source": [
    "This data shows majority of the news belong to politics and world news."
   ]
  },
  {
   "cell_type": "markdown",
   "metadata": {
    "colab_type": "text",
    "id": "ni0bbONToxiG"
   },
   "source": [
    "**4. Data Cleaning**\n",
    "\n",
    "Remove the null and NaN values from all the columns of the data"
   ]
  },
  {
   "cell_type": "code",
   "execution_count": 27,
   "metadata": {
    "colab": {},
    "colab_type": "code",
    "id": "nuvEAGRFU2U-"
   },
   "outputs": [],
   "source": [
    "#remove title, subject and date columns\n",
    "columns = [\"title\", \"subject\", \"date\"]\n",
    "data = data.drop(*columns)"
   ]
  },
  {
   "cell_type": "code",
   "execution_count": 28,
   "metadata": {
    "colab": {},
    "colab_type": "code",
    "id": "cLBJ_qGAo42N"
   },
   "outputs": [],
   "source": [
    "#drop the null values\n",
    "data = data.na.drop()"
   ]
  },
  {
   "cell_type": "code",
   "execution_count": 29,
   "metadata": {
    "colab": {
     "base_uri": "https://localhost:8080/",
     "height": 118
    },
    "colab_type": "code",
    "id": "S2h7Yn1qV0_e",
    "outputId": "de13f336-c0e5-4c43-d3cd-fa9e7ffcfaab"
   },
   "outputs": [
    {
     "name": "stdout",
     "output_type": "stream",
     "text": [
      "+----+------+\n",
      "|text|target|\n",
      "+----+------+\n",
      "|   0|     0|\n",
      "+----+------+\n",
      "\n"
     ]
    }
   ],
   "source": [
    "#check for null values\n",
    "data.select([count(when(isnan(c), c)).alias(c) for c in data.columns]).show()"
   ]
  },
  {
   "cell_type": "markdown",
   "metadata": {
    "colab_type": "text",
    "id": "P37IisItsfmV"
   },
   "source": [
    "**5. Text Preprocessing**\n",
    "\n",
    "The text preprocessing involves the following steps:\n",
    "\n",
    "1. Tokenize the text into words using RegexTokenizer which is more advanced tokenization based on regular expression matching\n",
    "2. Removal of Stopwords using StopWordsRemover. Default english stopwords are used to remove unwanted words from the data.\n",
    "3. Converting text to numerical. Word2Vec is an Estimator which takes sequences of words representing documents, computes distributed vector representation of words and trains a Word2VecModel. The model maps each word to a unique fixed-size vector. The Word2VecModel transforms each document into a vector using the average of all words in the document. The advantage of this representations is that similar words are close in the vector space, which makes generalization to novel patterns easier and model estimation more robust.\n",
    "\n",
    "4. Convert target categorical values into intergers using StringIndexer.  StringIndexer encodes a string column of labels to a column of label indices.\n"
   ]
  },
  {
   "cell_type": "code",
   "execution_count": 30,
   "metadata": {
    "colab": {},
    "colab_type": "code",
    "id": "itWOzkU1BB9B"
   },
   "outputs": [],
   "source": [
    "'''Tokenization'''\n",
    "#set the Regextokenizer with pattern = \\\\W\n",
    "tokenizer = RegexTokenizer(inputCol = \"text\", outputCol = \"words\", pattern = \"\\\\W\")\n",
    "#tok = Tokenizer(inputCol = \"text\", outputCol = \"words\")\n",
    "\n",
    "'''Stopwords removal'''\n",
    "#load the default english stopwords\n",
    "add_stopwords = StopWordsRemover.loadDefaultStopWords(\"english\")\n",
    "\n",
    "#create a stopwords functions for thw words column from the tokenizer\n",
    "remover = StopWordsRemover(inputCol = \"words\", outputCol = \"filtered\").setStopWords(add_stopwords)\n",
    "#remover.transform(tokenizer).show(truncate=False)\n",
    "\n",
    "'''Word to vector'''\n",
    "w2v = Word2Vec(vectorSize = 300, minCount = 0, inputCol = \"filtered\", outputCol = \"features\")\n",
    "\n",
    "'''Label Indexer'''\n",
    "#Convert the target feature categorical values into intergers\n",
    "label_stringIdx = StringIndexer(inputCol = \"target\", outputCol = \"label\")"
   ]
  },
  {
   "cell_type": "markdown",
   "metadata": {
    "colab_type": "text",
    "id": "UfjVSAF31Yma"
   },
   "source": [
    "Next create a Pipelime for the above functions to be perfomed on the data. The stages of the Pipline are set as: tokenization, removal of stopwords, coverting words to vector using Word2vec and converting categorical values to intergers."
   ]
  },
  {
   "cell_type": "code",
   "execution_count": 31,
   "metadata": {
    "colab": {
     "base_uri": "https://localhost:8080/",
     "height": 202
    },
    "colab_type": "code",
    "id": "XpYmz8jq1U1b",
    "outputId": "50e9fefb-dc08-4e67-80b7-9f64a23acac2"
   },
   "outputs": [
    {
     "name": "stdout",
     "output_type": "stream",
     "text": [
      "+--------------------+------+--------------------+--------------------+--------------------+-----+\n",
      "|                text|target|               words|            filtered|            features|label|\n",
      "+--------------------+------+--------------------+--------------------+--------------------+-----+\n",
      "|Sen. John McCain(...|  Fake|[sen, john, mccai...|[sen, john, mccai...|[0.02880430923261...|  0.0|\n",
      "|Donald Trump s so...|  Fake|[donald, trump, s...|[donald, trump, s...|[-0.0250489919997...|  0.0|\n",
      "|Who s Ready For H...|  Fake|[who, s, ready, f...|[ready, hillary, ...|[0.03068173930538...|  0.0|\n",
      "|LONDON (Reuters) ...|  True|[london, reuters,...|[london, reuters,...|[-0.0257017291550...|  1.0|\n",
      "|BEIRUT (Reuters) ...|  True|[beirut, reuters,...|[beirut, reuters,...|[0.06456732406465...|  1.0|\n",
      "+--------------------+------+--------------------+--------------------+--------------------+-----+\n",
      "only showing top 5 rows\n",
      "\n"
     ]
    }
   ],
   "source": [
    "#pipleline for text pre-processing\n",
    "pipeline = Pipeline(stages = [tokenizer, remover, w2v, label_stringIdx])\n",
    "\n",
    "#fit the dat for the pipeline\n",
    "pipelineFit = pipeline.fit(data)\n",
    "dataset = pipelineFit.transform(data)\n",
    "\n",
    "dataset.show(5)"
   ]
  },
  {
   "cell_type": "markdown",
   "metadata": {
    "colab_type": "text",
    "id": "abSMYFSg3zR6"
   },
   "source": [
    "The data is converted to numerical format and below shows the schema of the preprocessed data."
   ]
  },
  {
   "cell_type": "code",
   "execution_count": 32,
   "metadata": {
    "colab": {
     "base_uri": "https://localhost:8080/",
     "height": 185
    },
    "colab_type": "code",
    "id": "ELiqLTTmHqA3",
    "outputId": "e679b184-4523-4e5d-d95b-3099547b66ca"
   },
   "outputs": [
    {
     "name": "stdout",
     "output_type": "stream",
     "text": [
      "root\n",
      " |-- text: string (nullable = true)\n",
      " |-- target: string (nullable = false)\n",
      " |-- words: array (nullable = true)\n",
      " |    |-- element: string (containsNull = true)\n",
      " |-- filtered: array (nullable = true)\n",
      " |    |-- element: string (containsNull = true)\n",
      " |-- features: vector (nullable = true)\n",
      " |-- label: double (nullable = false)\n",
      "\n"
     ]
    }
   ],
   "source": [
    "#check the schema for preprocessed data\n",
    "dataset.printSchema()"
   ]
  },
  {
   "cell_type": "markdown",
   "metadata": {
    "colab_type": "text",
    "id": "bsav6mnz4EDD"
   },
   "source": [
    "**6. Function for Evaluation Metrics**\n",
    "\n",
    "This project is implmented using three machine learning algorithms. The performance of the models are evaluated confusion matrix, F1 score and Area under the curve. The model with less False positives and false negatives, high F1 score and AUC will be considered as a better model for fake news detection. Matplotlib and Numpy is used to plot the confusion matrix. "
   ]
  },
  {
   "cell_type": "code",
   "execution_count": 33,
   "metadata": {
    "colab": {},
    "colab_type": "code",
    "id": "4Kuv7a9AhJvO"
   },
   "outputs": [],
   "source": [
    "#function to calculate the evaluation metrics\n",
    "def eval_metrics(predictions):\n",
    "    '''Accuracy'''\n",
    "    #label = predictions.select(['prediction', 'label'])\n",
    "    evaluator = MulticlassClassificationEvaluator(labelCol = \"label\", predictionCol = \"prediction\", metricName = \"accuracy\")\n",
    "    accuracy = evaluator.evaluate(predictions)*100\n",
    "  \n",
    "    #select prediction and label columns to calculate metric values\n",
    "    results = predictions.select(['prediction', 'label'])\n",
    "    #convert the results to rdd to get predictions and labels\n",
    "    predictionAndLabels = results.rdd\n",
    "\n",
    "    '''Area under the curve'''\n",
    "    #binary_evaluator = BinaryClassificationEvaluator()\n",
    "    #auc = binary_evaluator.evaluate(predictions, {binary_evaluator.metricName: \"areaUnderROC\"})\n",
    "    binary_evaluator = BinaryClassificationMetrics(predictionAndLabels)\n",
    "    auc = binary_evaluator.areaUnderROC\n",
    "\n",
    "    '''Classification report'''\n",
    "    #create a multiclassmetrics instance\n",
    "    metrics = MulticlassMetrics(predictionAndLabels)\n",
    "\n",
    "    #compute Recall with respect to Real and fake news data\n",
    "    real_recall = metrics.recall(1.0)\n",
    "    fake_recall = metrics.recall(0.0)\n",
    "\n",
    "    #compute Precision with respect to Real and fake news data\n",
    "    real_precision = metrics.precision(1.0)\n",
    "    fake_precision = metrics.precision(0.0)\n",
    "\n",
    "    #compute F1 Score with respect to Real and fake news data\n",
    "    real_f1 = metrics.fMeasure(1.0)\n",
    "    fake_f1 = metrics.fMeasure(0.0)\n",
    "\n",
    "    #create a classificaiton report for the model\n",
    "    real = Row(News = 'Real', recall = real_recall, precision = real_precision, f1_score = real_f1)\n",
    "    fake = Row(News = 'Fake', recall = fake_recall, precision = fake_precision, f1_score = fake_f1) \n",
    "  \n",
    "    classification_report = [real, fake]\n",
    "    classification_report_df = sql_context.createDataFrame(classification_report)\n",
    "\n",
    "    '''Confusion matrix'''\n",
    "    conf_matrix = metrics.confusionMatrix().toArray()\n",
    "\n",
    "    return accuracy, auc, classification_report_df, conf_matrix"
   ]
  },
  {
   "cell_type": "code",
   "execution_count": 34,
   "metadata": {
    "colab": {},
    "colab_type": "code",
    "id": "J1E4dDnQLozO"
   },
   "outputs": [],
   "source": [
    "#function for confusion matrix\n",
    "def plot_confusion_matrix(cm, target_names, title='Confusion Matrix', cmap=plt.cm.Blues):\n",
    "    plt.imshow(cm, interpolation='nearest', cmap=cmap)\n",
    "    plt.title(title)\n",
    "    plt.colorbar()\n",
    "    tick_marks = np.arange(len(target_names))\n",
    "    plt.xticks(tick_marks, target_names)\n",
    "    plt.yticks(tick_marks, target_names)\n",
    "    plt.tight_layout()\n",
    "\n",
    "    width, height = cm.shape\n",
    "\n",
    "    for x in range(width):\n",
    "        for y in range(height):\n",
    "            plt.annotate(str(cm[x][y]), xy=(y, x), \n",
    "                        horizontalalignment='center',\n",
    "                        verticalalignment='center')\n",
    "            \n",
    "    plt.ylabel('True Label')\n",
    "    plt.xlabel('Predicted Label')"
   ]
  },
  {
   "cell_type": "markdown",
   "metadata": {
    "colab_type": "text",
    "id": "SVoZZnmS4AGR"
   },
   "source": [
    "**7. Modelling**\n",
    "\n",
    "This section implements different algorithms to predict the fake news. Initially the data is split into train and test in the ratio 80:20 using randomSplit function."
   ]
  },
  {
   "cell_type": "code",
   "execution_count": 35,
   "metadata": {
    "colab": {},
    "colab_type": "code",
    "id": "q5Q2-4N2zuUX"
   },
   "outputs": [],
   "source": [
    "#split the data\n",
    "train, test = dataset.randomSplit([0.8, 0.2])"
   ]
  },
  {
   "cell_type": "code",
   "execution_count": 36,
   "metadata": {
    "colab": {
     "base_uri": "https://localhost:8080/",
     "height": 50
    },
    "colab_type": "code",
    "id": "WgMbCeQZ4mEn",
    "outputId": "040cce0a-8128-4c46-fff8-90fedf343981"
   },
   "outputs": [
    {
     "name": "stdout",
     "output_type": "stream",
     "text": [
      "Training Dataset Count: 35989\n",
      "Test Dataset Count: 8909\n"
     ]
    }
   ],
   "source": [
    "#check the train and test data count\n",
    "print(\"Training Dataset Count: \" + str(train.count()))\n",
    "print(\"Test Dataset Count: \" + str(test.count()))"
   ]
  },
  {
   "cell_type": "markdown",
   "metadata": {
    "colab_type": "text",
    "id": "9mILXdfVbmNL"
   },
   "source": [
    "**7.1 Decision Tree**\n",
    "\n",
    "A decision tree is a flowchart-like tree structure with internal node representing feature, the branch represents a decision rule, and each leaf node represents the outcome. The topmost node is known as the root node and the bottom nodes are leaf nodes. Decision trees are white box ML algorithms that can handle high dimensional data with good accuracy.\n",
    "\n",
    "The decision trees selects the best feature to split at the root node based on Attribute Selection measures: Gini Index or Entropy. The measured values is calculated at every step before a node split till the required number of nodes are grown. The ASM used here is Gini Index. An attribute with higher Gini Index is considered for the split. Gini Index considers a binary split for each attribute using the below formula. \n",
    "\n",
    "$Gini(D) = 1 - \\sum_{i=1}^m P_i^2$\n",
    "\n",
    "Where, Pi is the probability that a tuple in D belongs to class Ci.\n",
    "\n",
    "The decision parameters:\n",
    "\n",
    "  1. labelCol: Label column name\n",
    "  2. featureCol: features column name\n",
    "  3. impurity: Gini index, default value "
   ]
  },
  {
   "cell_type": "code",
   "execution_count": 37,
   "metadata": {
    "colab": {},
    "colab_type": "code",
    "id": "r7r3loRpbomx"
   },
   "outputs": [],
   "source": [
    "from pyspark.ml.classification import DecisionTreeClassifier\n",
    "#define decision tree\n",
    "dt = DecisionTreeClassifier(labelCol=\"label\", featuresCol = \"features\")\n",
    "\n",
    "#train the model and predict on test data\n",
    "dtModel = dt.fit(train)\n",
    "dt_predictions = dtModel.transform(test)"
   ]
  },
  {
   "cell_type": "code",
   "execution_count": 38,
   "metadata": {
    "colab": {},
    "colab_type": "code",
    "id": "dJS9mr49cBi6"
   },
   "outputs": [],
   "source": [
    "#calculate the evaluation metrics of naive bayes model\n",
    "dt_accuracy, dt_auc, dt_classification_report_df, dt_conf_matrix = eval_metrics(dt_predictions)"
   ]
  },
  {
   "cell_type": "code",
   "execution_count": 39,
   "metadata": {
    "colab": {
     "base_uri": "https://localhost:8080/",
     "height": 50
    },
    "colab_type": "code",
    "id": "2XILnMIzcObn",
    "outputId": "f006dfb9-62c5-463a-9202-dee6c3bd783c"
   },
   "outputs": [
    {
     "name": "stdout",
     "output_type": "stream",
     "text": [
      "Decision Tree accuracy is: 90.08\n",
      "Decision Tree AUC is: 0.90\n"
     ]
    }
   ],
   "source": [
    "#print the auuracy and area under the curve\n",
    "print(\"Decision Tree accuracy is: {:0.2f}\".format(dt_accuracy))\n",
    "print(\"Decision Tree AUC is: {:0.2f}\".format(dt_auc))"
   ]
  },
  {
   "cell_type": "code",
   "execution_count": 40,
   "metadata": {
    "colab": {
     "base_uri": "https://localhost:8080/",
     "height": 134
    },
    "colab_type": "code",
    "id": "MhTI-fNIch4y",
    "outputId": "5041e8dc-5075-4f29-a6d1-89fe808480ec"
   },
   "outputs": [
    {
     "name": "stdout",
     "output_type": "stream",
     "text": [
      "+----+------------------+------------------+------------------+\n",
      "|News|            recall|         precision|          f1_score|\n",
      "+----+------------------+------------------+------------------+\n",
      "|Real|0.9268178629880758| 0.874090407938258|0.8996822514752609|\n",
      "|Fake| 0.876727115716753|0.9284407864654778|0.9018432156340218|\n",
      "+----+------------------+------------------+------------------+\n",
      "\n"
     ]
    }
   ],
   "source": [
    "#display the classification report\n",
    "dt_classification_report_df.show()"
   ]
  },
  {
   "cell_type": "code",
   "execution_count": 41,
   "metadata": {
    "colab": {
     "base_uri": "https://localhost:8080/",
     "height": 67
    },
    "colab_type": "code",
    "id": "tgxwFuI3cneW",
    "outputId": "ac66a2ea-1f57-48f9-af4c-6af2b8e8e2df"
   },
   "outputs": [
    {
     "name": "stdout",
     "output_type": "stream",
     "text": [
      "Confusion Matrix\n",
      "[[4061.  571.]\n",
      " [ 313. 3964.]]\n"
     ]
    }
   ],
   "source": [
    "#print the confusion matrix\n",
    "print(\"Confusion Matrix\")\n",
    "print(dt_conf_matrix)"
   ]
  },
  {
   "cell_type": "code",
   "execution_count": 42,
   "metadata": {
    "colab": {
     "base_uri": "https://localhost:8080/",
     "height": 311
    },
    "colab_type": "code",
    "id": "hT6YimMzcrDz",
    "outputId": "7f35bd54-713c-4a49-e152-358ca51c720c"
   },
   "outputs": [
    {
     "data": {
      "image/png": "[encoded data removed]",
      "text/plain": [
       "<Figure size 432x288 with 2 Axes>"
      ]
     },
     "metadata": {
      "needs_background": "light",
      "tags": []
     },
     "output_type": "display_data"
    }
   ],
   "source": [
    "#plot confusion matrix\n",
    "plot_confusion_matrix(dt_conf_matrix,[\"Fake\",\"Real\"])"
   ]
  },
  {
   "cell_type": "markdown",
   "metadata": {
    "colab_type": "text",
    "id": "p6kibCd3uR1M"
   },
   "source": [
    "**7.2 Gradient Bossting Tree Classifier**\n",
    "\n",
    "Gradient Boosting classifiers consists of many weak classifiers that are combined together to make a strong model. The training of the models takes places sequentially and decision trees are mostly used as classfiers in Gradient boosting. Thus GBTs train one tree at a time and training is only parallelized at the single tree level.\n",
    "\n",
    "The main aim of GBT is to minimize the loss of the model. The model trains on the wieghted dataset where all the instances in the data are assigned same weight initially and the classification is done for the first tree. For the next tree the wieghts are misclassified instances are increased while the weights of correctly classified instances are decreased. This process is continued till the loss function has reached it minimum. The loss function for text classification would be how well our model can classify the fake news. \n",
    "\n",
    "A 3-Fold cross validation is performed to tune the parameters of the RF classifier that are defined using ParamGridBuilder.The parameters tuned are:\n",
    "\n",
    "  1. maxDepth: Maximum depth of the tree.\n",
    "  2. minInstancesPerNode: Minimum number of instances each child must have after split.\n",
    "  3. maxIter: Max number of iterations\n",
    "  4. subsamplingRate: Fraction of the training data used for learning each decision tree. It is set to 0.75 where 75% percent of train data is used for training and 25% for validation\n",
    "  5. stepSize: Step size (a.k.a. learning rate) in interval (0, 1] for shrinking the contribution of each estimator"
   ]
  },
  {
   "cell_type": "code",
   "execution_count": 43,
   "metadata": {
    "colab": {
     "base_uri": "https://localhost:8080/",
     "height": 457
    },
    "colab_type": "code",
    "id": "CyA5pb_s85T9",
    "outputId": "03fff30e-240a-42a7-a81c-1bf0ad95a3a1"
   },
   "outputs": [
    {
     "name": "stdout",
     "output_type": "stream",
     "text": [
      "cacheNodeIds: If false, the algorithm will pass trees to executors to match instances with nodes. If true, the algorithm will cache node IDs for each instance. Caching can speed up training of deeper trees. Users can set how often should the cache be checkpointed or disable it by setting checkpointInterval. (default: False)\n",
      "checkpointInterval: set checkpoint interval (>= 1) or disable checkpoint (-1). E.g. 10 means that the cache will get checkpointed every 10 iterations. Note: this setting will be ignored if the checkpoint directory is not set in the SparkContext. (default: 10)\n",
      "featureSubsetStrategy: The number of features to consider for splits at each tree node. Supported options: 'auto' (choose automatically for task: If numTrees == 1, set to 'all'. If numTrees > 1 (forest), set to 'sqrt' for classification and to 'onethird' for regression), 'all' (use all features), 'onethird' (use 1/3 of the features), 'sqrt' (use sqrt(number of features)), 'log2' (use log2(number of features)), 'n' (when n is in the range (0, 1.0], use n * number of features. When n is in the range (1, number of features), use n features). default = 'auto' (default: all)\n",
      "featuresCol: features column name. (default: features)\n",
      "impurity: Criterion used for information gain calculation (case-insensitive). Supported options: variance (default: variance)\n",
      "labelCol: label column name. (default: label)\n",
      "leafCol: Leaf indices column name. Predicted leaf index of each instance in each tree by preorder. (default: )\n",
      "lossType: Loss function which GBT tries to minimize (case-insensitive). Supported options: logistic (default: logistic)\n",
      "maxBins: Max number of bins for discretizing continuous features.  Must be >=2 and >= number of categories for any categorical feature. (default: 32)\n",
      "maxDepth: Maximum depth of the tree. (>= 0) E.g., depth 0 means 1 leaf node; depth 1 means 1 internal node + 2 leaf nodes. (default: 5)\n",
      "maxIter: max number of iterations (>= 0). (default: 20)\n",
      "maxMemoryInMB: Maximum memory in MB allocated to histogram aggregation. If too small, then 1 node will be split per iteration, and its aggregates may exceed this size. (default: 256)\n",
      "minInfoGain: Minimum information gain for a split to be considered at a tree node. (default: 0.0)\n",
      "minInstancesPerNode: Minimum number of instances each child must have after split. If a split causes the left or right child to have fewer than minInstancesPerNode, the split will be discarded as invalid. Should be >= 1. (default: 1)\n",
      "minWeightFractionPerNode: Minimum fraction of the weighted sample count that each child must have after split. If a split causes the fraction of the total weight in the left or right child to be less than minWeightFractionPerNode, the split will be discarded as invalid. Should be in interval [0.0, 0.5). (default: 0.0)\n",
      "predictionCol: prediction column name. (default: prediction)\n",
      "probabilityCol: Column name for predicted class conditional probabilities. Note: Not all models output well-calibrated probability estimates! These probabilities should be treated as confidences, not precise probabilities. (default: probability)\n",
      "rawPredictionCol: raw prediction (a.k.a. confidence) column name. (default: rawPrediction)\n",
      "seed: random seed. (default: 812213754293208006)\n",
      "stepSize: Step size (a.k.a. learning rate) in interval (0, 1] for shrinking the contribution of each estimator. (default: 0.1)\n",
      "subsamplingRate: Fraction of the training data used for learning each decision tree, in range (0, 1]. (default: 1.0)\n",
      "thresholds: Thresholds in multi-class classification to adjust the probability of predicting each class. Array must have length equal to the number of classes, with values > 0, excepting that at most one value may be 0. The class with largest value p/t is predicted, where p is the original probability of that class and t is the class's threshold. (undefined)\n",
      "validationIndicatorCol: name of the column that indicates whether each row is for training or for validation. False indicates training; true indicates validation. (undefined)\n",
      "validationTol: Threshold for stopping early when fit with validation is used. If the error rate on the validation input changes by less than the validationTol, then learning will stop early (before `maxIter`). This parameter is ignored when fit without validation is used. (default: 0.01)\n",
      "weightCol: weight column name. If this is not set or empty, we treat all instance weights as 1.0. (undefined)\n"
     ]
    }
   ],
   "source": [
    "#check the parameters of GBT classifier\n",
    "gbt_classifier = GBTClassifier()\n",
    "\n",
    "print(gbt_classifier.explainParams())"
   ]
  },
  {
   "cell_type": "code",
   "execution_count": 45,
   "metadata": {
    "colab": {
     "base_uri": "https://localhost:8080/",
     "height": 102
    },
    "colab_type": "code",
    "id": "xFPmf5hf9mLe",
    "outputId": "576f518a-3c90-4097-bc11-124ca0bd075c"
   },
   "outputs": [
    {
     "name": "stdout",
     "output_type": "stream",
     "text": [
      "\n"
     ]
    }
   ],
   "source": [
    "#define the GBT classifier\n",
    "gbt_classifier = GBTClassifier(labelCol = \"label\", featuresCol = \"features\")\n",
    "              \n",
    "#define the parameters for the GBT\n",
    "gbt_paramGrid = (ParamGridBuilder()\n",
    "             .addGrid(gbt_classifier.maxDepth, [4, 6])\n",
    "             .addGrid(gbt_classifier.minInstancesPerNode, [2, 4])\n",
    "             .addGrid(gbt_classifier.stepSize, [0.01])\n",
    "             #.addGrid(gbt.maxBins, [20, 60])\n",
    "             .addGrid(gbt_classifier.maxIter, [20,30])\n",
    "             .addGrid(gbt_classifier.subsamplingRate, [0.75])\n",
    "             .build())\n",
    "#evaluator for CV\n",
    "evaluator = BinaryClassificationEvaluator()\n",
    "\n",
    "#perform 3-fold CV\n",
    "gbt_cv = CrossValidator(estimator = gbt_classifier, estimatorParamMaps = gbt_paramGrid, evaluator = evaluator, numFolds = 3)\n",
    "gbt_cvModel = gbt_cv.fit(train)\n",
    "gbt_predictions = gbt_cvModel.transform(test)\n"
   ]
  },
  {
   "cell_type": "code",
   "execution_count": 65,
   "metadata": {
    "colab": {
     "base_uri": "https://localhost:8080/",
     "height": 67
    },
    "colab_type": "code",
    "id": "0E74FrXETgex",
    "outputId": "4289f59e-12f3-4ef4-8ddd-52e2fa86dfc5"
   },
   "outputs": [
    {
     "name": "stdout",
     "output_type": "stream",
     "text": [
      "Max Depth: 8\n",
      "Min Instances Per Node: 4\n",
      "Number of Trees: 30\n"
     ]
    }
   ],
   "source": [
    "#dispaly the best parameters after CV\n",
    "gbt_best_parameters = gbt_cvModel.bestModel\n",
    "print(\"Max Depth: \" + str(gbt_best_parameters._java_obj.getMaxDepth()))\n",
    "print(\"Min Instances Per Node: \" + str(gbt_best_parameters._java_obj.getMinInstancesPerNode()))\n",
    "print(\"Number of Trees: \" + str(gbt_best_parameters._java_obj.getNumTrees()))"
   ]
  },
  {
   "cell_type": "code",
   "execution_count": 46,
   "metadata": {
    "colab": {
     "base_uri": "https://localhost:8080/",
     "height": 457
    },
    "colab_type": "code",
    "id": "lj0Fo5dfNMhQ",
    "outputId": "74efc0ab-8d0b-4485-e759-f7e879f955dd"
   },
   "outputs": [
    {
     "name": "stdout",
     "output_type": "stream",
     "text": [
      "\n"
     ]
    }
   ],
   "source": [
    "#compute the evaluation metrics using eval_metrics functions\n",
    "#check the parameters of GBT classifier\n",
    "gbt_accuracy, gbt_auc, gbt_classification_report_df, gbt_conf_matrix = eval_metrics(gbt_predictions)"
   ]
  },
  {
   "cell_type": "code",
   "execution_count": 47,
   "metadata": {
    "colab": {
     "base_uri": "https://localhost:8080/",
     "height": 50
    },
    "colab_type": "code",
    "id": "hy1bQ77gNPuD",
    "outputId": "fe506781-6932-4ae6-9b23-8ec59f7f3333"
   },
   "outputs": [
    {
     "name": "stdout",
     "output_type": "stream",
     "text": [
      "GBT accuracy is 93.83\n",
      "GBT AUC is 0.94\n"
     ]
    }
   ],
   "source": [
    "#print accuracy and AUC\n",
    "print ('GBT accuracy is {:0.2f}'.format(gbt_accuracy))\n",
    "print ('GBT AUC is {:0.2f}'.format(gbt_auc))"
   ]
  },
  {
   "cell_type": "code",
   "execution_count": 48,
   "metadata": {
    "colab": {
     "base_uri": "https://localhost:8080/",
     "height": 134
    },
    "colab_type": "code",
    "id": "IQy3vTRhNXsO",
    "outputId": "b53ec540-2e08-4313-ae4e-93539a2aed5b"
   },
   "outputs": [
    {
     "name": "stdout",
     "output_type": "stream",
     "text": [
      "+----+------------------+------------------+------------------+\n",
      "|News|            recall|         precision|          f1_score|\n",
      "+----+------------------+------------------+------------------+\n",
      "|Real|0.9312602291325696|0.9396083982071243|0.9354156881164867|\n",
      "|Fake|0.9447322970639033|0.9370449678800856|0.9408729305525693|\n",
      "+----+------------------+------------------+------------------+\n",
      "\n"
     ]
    }
   ],
   "source": [
    "#print classification report\n",
    "gbt_classification_report_df.show()"
   ]
  },
  {
   "cell_type": "code",
   "execution_count": 49,
   "metadata": {
    "colab": {
     "base_uri": "https://localhost:8080/",
     "height": 67
    },
    "colab_type": "code",
    "id": "nn4TwYziNZ9M",
    "outputId": "38ef9b70-d753-4522-c35e-54d3720afb1e"
   },
   "outputs": [
    {
     "name": "stdout",
     "output_type": "stream",
     "text": [
      "Confusion Matrix\n",
      "[[4376.  256.]\n",
      " [ 294. 3983.]]\n"
     ]
    }
   ],
   "source": [
    "#print confusion matrix\n",
    "print(\"Confusion Matrix\")\n",
    "print(gbt_conf_matrix)"
   ]
  },
  {
   "cell_type": "code",
   "execution_count": 50,
   "metadata": {
    "colab": {
     "base_uri": "https://localhost:8080/",
     "height": 311
    },
    "colab_type": "code",
    "id": "8urvRaLrNmJ4",
    "outputId": "849f48a3-553d-4697-f1c7-eee60ef6b8e8"
   },
   "outputs": [
    {
     "data": {
      "image/png": "[encoded data removed]",
      "text/plain": [
       "<Figure size 432x288 with 2 Axes>"
      ]
     },
     "metadata": {
      "needs_background": "light",
      "tags": []
     },
     "output_type": "display_data"
    }
   ],
   "source": [
    "#plot confusion matrix\n",
    "plot_confusion_matrix(gbt_conf_matrix, [\"Fake\",\"Real\"])"
   ]
  },
  {
   "cell_type": "markdown",
   "metadata": {
    "colab_type": "text",
    "id": "2B50SaEfpONS"
   },
   "source": [
    "**7.3 Neural Network using Keras and Elephas**\n",
    "\n",
    "Elephas is an extension of Keras, which allows you to run distributed deep learning models at scale with Spark. Elephas implements a class of data-parallel algorithms on top of Keras, using Spark's RDDs and data frames. Keras Models are initialized on the driver, then serialized and shipped to workers, alongside with data and broadcasted model parameters. Spark workers deserialize the model, train their chunk of data and send their gradients back to the driver. The \"master\" model on the driver is updated by an optimizer, which takes gradients either synchronously or asynchronously. The working of elephas is as follows:\n",
    "![alt text](https://raw.githubusercontent.com/maxpumperla/elephas/master/elephas.gif) \n",
    "\n",
    "The neural network model is defined using Keras layers and model is trained using the parameter defined in the elephas sparkML estimator. The neural network model consists:\n",
    "  1. Of 1 input layer, 2 hidden layers and 1 output layer\n",
    "  2. All layers are Dense layers with activation functions for input and hidden layers are ReLU and Softmax for outplut layer\n",
    "  3. A dropout layer of 10% is used after each layer \n",
    "  4. Binary Cross entropy loss function and Adam optimizer with 0.01 learning rate and the metrics used is \"accuracy\""
   ]
  },
  {
   "cell_type": "code",
   "execution_count": 51,
   "metadata": {
    "colab": {
     "base_uri": "https://localhost:8080/",
     "height": 826
    },
    "colab_type": "code",
    "id": "XaWGLxPWibOB",
    "outputId": "1567ebba-0e5b-439b-f316-d86311e4a4b0"
   },
   "outputs": [
    {
     "name": "stdout",
     "output_type": "stream",
     "text": [
      "WARNING:tensorflow:From /usr/local/lib/python3.6/dist-packages/keras/backend/tensorflow_backend.py:74: The name tf.get_default_graph is deprecated. Please use tf.compat.v1.get_default_graph instead.\n",
      "\n",
      "WARNING:tensorflow:From /usr/local/lib/python3.6/dist-packages/keras/backend/tensorflow_backend.py:517: The name tf.placeholder is deprecated. Please use tf.compat.v1.placeholder instead.\n",
      "\n",
      "WARNING:tensorflow:From /usr/local/lib/python3.6/dist-packages/keras/backend/tensorflow_backend.py:4138: The name tf.random_uniform is deprecated. Please use tf.random.uniform instead.\n",
      "\n",
      "WARNING:tensorflow:From /usr/local/lib/python3.6/dist-packages/keras/backend/tensorflow_backend.py:133: The name tf.placeholder_with_default is deprecated. Please use tf.compat.v1.placeholder_with_default instead.\n",
      "\n",
      "WARNING:tensorflow:From /usr/local/lib/python3.6/dist-packages/keras/backend/tensorflow_backend.py:3445: calling dropout (from tensorflow.python.ops.nn_ops) with keep_prob is deprecated and will be removed in a future version.\n",
      "Instructions for updating:\n",
      "Please use `rate` instead of `keep_prob`. Rate should be set to `rate = 1 - keep_prob`.\n",
      "WARNING:tensorflow:From /usr/local/lib/python3.6/dist-packages/keras/optimizers.py:790: The name tf.train.Optimizer is deprecated. Please use tf.compat.v1.train.Optimizer instead.\n",
      "\n",
      "WARNING:tensorflow:From /usr/local/lib/python3.6/dist-packages/keras/backend/tensorflow_backend.py:3376: The name tf.log is deprecated. Please use tf.math.log instead.\n",
      "\n",
      "WARNING:tensorflow:From /usr/local/lib/python3.6/dist-packages/tensorflow/python/ops/nn_impl.py:180: add_dispatch_support.<locals>.wrapper (from tensorflow.python.ops.array_ops) is deprecated and will be removed in a future version.\n",
      "Instructions for updating:\n",
      "Use tf.where in 2.0, which has the same broadcast rule as np.where\n",
      "_________________________________________________________________\n",
      "Layer (type)                 Output Shape              Param #   \n",
      "=================================================================\n",
      "dense_1 (Dense)              (None, 256)               77056     \n",
      "_________________________________________________________________\n",
      "activation_1 (Activation)    (None, 256)               0         \n",
      "_________________________________________________________________\n",
      "dropout_1 (Dropout)          (None, 256)               0         \n",
      "_________________________________________________________________\n",
      "dense_2 (Dense)              (None, 128)               32896     \n",
      "_________________________________________________________________\n",
      "activation_2 (Activation)    (None, 128)               0         \n",
      "_________________________________________________________________\n",
      "dropout_2 (Dropout)          (None, 128)               0         \n",
      "_________________________________________________________________\n",
      "dense_3 (Dense)              (None, 64)                8256      \n",
      "_________________________________________________________________\n",
      "activation_3 (Activation)    (None, 64)                0         \n",
      "_________________________________________________________________\n",
      "dropout_3 (Dropout)          (None, 64)                0         \n",
      "_________________________________________________________________\n",
      "dense_4 (Dense)              (None, 2)                 130       \n",
      "_________________________________________________________________\n",
      "activation_4 (Activation)    (None, 2)                 0         \n",
      "=================================================================\n",
      "Total params: 118,338\n",
      "Trainable params: 118,338\n",
      "Non-trainable params: 0\n",
      "_________________________________________________________________\n"
     ]
    }
   ],
   "source": [
    "from keras import layers\n",
    "#count the number of target labels\n",
    "tar_class = train.select(\"label\").distinct().count()\n",
    "\n",
    "#dimension of input data\n",
    "input_dim = len(train.select(\"features\").first()[0])\n",
    "\n",
    "#define the neural network model\n",
    "model = Sequential()\n",
    "model.add(Dense(256, input_dim = input_dim, activation = \"relu\"))\n",
    "model.add(Dropout(0.1))\n",
    "model.add(Dense(128, activation = \"relu\"))\n",
    "model.add(Dropout(0.1))\n",
    "model.add(Dense(64, activation = \"relu\"))\n",
    "model.add(Dropout(0.1))\n",
    "model.add(Dense(tar_class, activation = \"softmax\"))\n",
    "\n",
    "model.compile(optimizer = \"adam\",\n",
    "              loss = 'binary_crossentropy',\n",
    "               metrics=['accuracy'])\n",
    "\n",
    "model.summary()"
   ]
  },
  {
   "cell_type": "markdown",
   "metadata": {
    "colab_type": "text",
    "id": "sqA_OopuEMq2"
   },
   "source": [
    "The parameters of the estimator are:\n",
    "\n",
    "  1. set_keras_model_config(model.to_yaml()): Set the neural network model\n",
    "  2. set_categorical_labels(True): Set to True if labels are categorical\n",
    "  3. set_nb_classes(tar_class): Set the number of target classes\n",
    "  4. set_num_workers(1): Set the number of worker nodes\n",
    "  5. set_epochs(10): Set the number of iterations for the training\n",
    "  6. set_batch_size(64): Set the batch size \n",
    "  7. set_verbosity(1): Set the verbosity for the results display\n",
    "  8. set_validation_split(0.10): Set the validation data split from the training data\n",
    "  9. set_optimizer_config(opt_conf): Set the defined optimizer\n",
    "  10. set_mode(\"synchronous\"): Set the mode to synchronous\n",
    "  11. set_loss(\"binary_crossentropy\"): Set the loss for the model same as keras model.compile loss\n",
    "  12. set_metrics([\"acc\"]): Set the metrics for the model evaluation"
   ]
  },
  {
   "cell_type": "code",
   "execution_count": 52,
   "metadata": {
    "colab": {
     "base_uri": "https://localhost:8080/",
     "height": 34
    },
    "colab_type": "code",
    "id": "yxYHzmoDBcqZ",
    "outputId": "47e56ac9-5ea1-4982-efa4-47f640eea6b6"
   },
   "outputs": [
    {
     "data": {
      "text/plain": [
       "ElephasEstimator_78128d464460"
      ]
     },
     "execution_count": 52,
     "metadata": {
      "tags": []
     },
     "output_type": "execute_result"
    }
   ],
   "source": [
    "#define the adam optimizer with lr = 0.01\n",
    "optimizer_conf = optimizers.Adam(lr = 0.01)\n",
    "opt_conf = optimizers.serialize(optimizer_conf)\n",
    "\n",
    "#define elephas estimator\n",
    "estimator = ElephasEstimator()\n",
    "\n",
    "#set the parameters for the estimator\n",
    "estimator.set_keras_model_config(model.to_yaml())\n",
    "estimator.set_categorical_labels(True)\n",
    "estimator.set_nb_classes(tar_class)\n",
    "estimator.set_num_workers(1)\n",
    "estimator.set_epochs(10)\n",
    "estimator.set_batch_size(64)\n",
    "estimator.set_verbosity(1)\n",
    "estimator.set_validation_split(0.10)\n",
    "estimator.set_optimizer_config(opt_conf)\n",
    "estimator.set_mode(\"synchronous\")\n",
    "estimator.set_loss(\"binary_crossentropy\")\n",
    "estimator.set_metrics([\"acc\"])"
   ]
  },
  {
   "cell_type": "code",
   "execution_count": 53,
   "metadata": {
    "colab": {
     "base_uri": "https://localhost:8080/",
     "height": 50
    },
    "colab_type": "code",
    "id": "GqKbWspHB1PM",
    "outputId": "08406408-8249-408d-8c60-feff8657e84f"
   },
   "outputs": [
    {
     "name": "stdout",
     "output_type": "stream",
     "text": [
      ">>> Fit model\n",
      ">>> Synchronous training complete.\n"
     ]
    }
   ],
   "source": [
    "#train the model using the estimator\n",
    "fitted_pipeline = estimator.fit(train)\n",
    "\n",
    "#Predict the test data\n",
    "nn_prediction = fitted_pipeline.transform(test)"
   ]
  },
  {
   "cell_type": "code",
   "execution_count": 54,
   "metadata": {
    "colab": {},
    "colab_type": "code",
    "id": "z-96mlWvGS_u"
   },
   "outputs": [],
   "source": [
    "#compute the evaluation metrics \n",
    "nn_accuracy, nn_auc, nn_classification_report, nn_conf_matrix = eval_metrics(nn_prediction)"
   ]
  },
  {
   "cell_type": "code",
   "execution_count": 55,
   "metadata": {
    "colab": {
     "base_uri": "https://localhost:8080/",
     "height": 50
    },
    "colab_type": "code",
    "id": "7d6JDw7F6AT4",
    "outputId": "92ca0fb8-6880-46dc-cfd5-d3b03fca0401"
   },
   "outputs": [
    {
     "name": "stdout",
     "output_type": "stream",
     "text": [
      "Neural Network accuracy is 98.53\n",
      "Neural Network AUC is 0.99\n"
     ]
    }
   ],
   "source": [
    "#print accuracy and AUC\n",
    "print ('Neural Network accuracy is {:0.2f}'.format(nn_accuracy))\n",
    "print ('Neural Network AUC is {:0.2f}'.format(nn_auc))"
   ]
  },
  {
   "cell_type": "code",
   "execution_count": 56,
   "metadata": {
    "colab": {
     "base_uri": "https://localhost:8080/",
     "height": 134
    },
    "colab_type": "code",
    "id": "YtahDi90H8kN",
    "outputId": "543ef63d-fb8e-4419-d247-6576f7c41aae"
   },
   "outputs": [
    {
     "name": "stdout",
     "output_type": "stream",
     "text": [
      "+----+------------------+------------------+------------------+\n",
      "|News|            recall|         precision|          f1_score|\n",
      "+----+------------------+------------------+------------------+\n",
      "|Real|0.9805938742108955|0.9886845827439887|0.9846226082873577|\n",
      "|Fake|0.9896373056994818|0.9822155560317121|0.9859124637057748|\n",
      "+----+------------------+------------------+------------------+\n",
      "\n"
     ]
    }
   ],
   "source": [
    "#print classification report\n",
    "nn_classification_report.show()"
   ]
  },
  {
   "cell_type": "code",
   "execution_count": 57,
   "metadata": {
    "colab": {
     "base_uri": "https://localhost:8080/",
     "height": 67
    },
    "colab_type": "code",
    "id": "Y827eamxIKLB",
    "outputId": "214b9157-236d-43a5-c076-13a05412084b"
   },
   "outputs": [
    {
     "name": "stdout",
     "output_type": "stream",
     "text": [
      "Confusion Matrix\n",
      "[[4584.   48.]\n",
      " [  83. 4194.]]\n"
     ]
    }
   ],
   "source": [
    "#print confusion matrix\n",
    "print(\"Confusion Matrix\")\n",
    "print(nn_conf_matrix)"
   ]
  },
  {
   "cell_type": "code",
   "execution_count": 58,
   "metadata": {
    "colab": {
     "base_uri": "https://localhost:8080/",
     "height": 311
    },
    "colab_type": "code",
    "id": "D4loc78JIQCw",
    "outputId": "7d508c8a-6ccb-4ca7-eaa6-5bb70c00932e"
   },
   "outputs": [
    {
     "data": {
      "image/png": "[encoded data removed]",
      "text/plain": [
       "<Figure size 432x288 with 2 Axes>"
      ]
     },
     "metadata": {
      "needs_background": "light",
      "tags": []
     },
     "output_type": "display_data"
    }
   ],
   "source": [
    "#plot confusion matrix\n",
    "plot_confusion_matrix(nn_conf_matrix, [\"Fake\",\"Real\"])"
   ]
  },
  {
   "cell_type": "markdown",
   "metadata": {},
   "source": [
    "**8. Conclusion**\n",
    "\n",
    "The dataset was trained using three algorithms and the model performance is studied using F1 score and confusion matrix. Below shows the table of the models performance:\n",
    "\n",
    "| Model           | AUC | F1 score               | Accuracy |\n",
    "|-----------------|-----|------------------------|----------|\n",
    "|Decision Tree    |0.90 |Real:0.89<br>Fake: 0.90 |90.08%    |\n",
    "|Gradient Boosting|0.94 |Real: 0.93<br>Fake: 0.94|93.83%    |\n",
    "|Neural Network   |0.99 |Real: 0.98<br>Fake: 0.98|98.53%    |\n",
    "\n",
    "The best model is Neural Network with and accuracy of 98% and less false positives and false negatives compared to Decision tree and Gradient Boosting."
   ]
  },
  {
   "cell_type": "code",
   "execution_count": null,
   "metadata": {
    "colab": {},
    "colab_type": "code",
    "id": "tapNZXsqJLf3"
   },
   "outputs": [],
   "source": []
  }
 ],
 "metadata": {
  "colab": {
   "collapsed_sections": [],
   "name": "Fake_news_detection_using_text.ipynb",
   "provenance": []
  },
  "kernelspec": {
   "display_name": "Python 3",
   "language": "python",
   "name": "python3"
  },
  "language_info": {
   "codemirror_mode": {
    "name": "ipython",
    "version": 3
   },
   "file_extension": ".py",
   "mimetype": "text/x-python",
   "name": "python",
   "nbconvert_exporter": "python",
   "pygments_lexer": "ipython3",
   "version": "3.7.4"
  }
 },
 "nbformat": 4,
 "nbformat_minor": 1
}
