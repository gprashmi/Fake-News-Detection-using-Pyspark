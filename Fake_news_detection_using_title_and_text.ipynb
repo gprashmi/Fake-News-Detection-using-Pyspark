{
 "cells": [
  {
   "cell_type": "markdown",
   "metadata": {
    "colab_type": "text",
    "id": "JisnpFXE-Fkz"
   },
   "source": [
    "# **Fake News Detection using title and text**\n",
    "\n",
    "This notebook detects the fake news based on the title and text of the article. The fake news detection is modelled using three algorithms to predict fake and real news and the sections covered in this notebook are:\n",
    "\n",
    "1. Install libraries \n",
    "2. Import necessary libraries and load the data\n",
    "3. Data Cleaning\n",
    "4. Text Preprocessing\n",
    "5. Function for Evaluation Metrics\n",
    "6. Apply the algortihms to predict the fake news: \n",
    "      1. Decision Tree\n",
    "      2. Gradient Boosting Tree Classifier\n",
    "      3. Neural Network using Keras and Elephas\n",
    "7. Conclusion\n"
   ]
  },
  {
   "cell_type": "markdown",
   "metadata": {
    "colab_type": "text",
    "id": "OZ2Oj2Q-QQdw"
   },
   "source": [
    "**1. Install Libraries**\n",
    "\n",
    "This project is implemented using Apache Spark written in Pyspark. In order to code the project in jupyter notebook, Pyspark module should be installed which is done using the command !pip install pyspark.\n"
   ]
  },
  {
   "cell_type": "code",
   "execution_count": 1,
   "metadata": {
    "colab": {
     "base_uri": "https://localhost:8080/",
     "height": 235
    },
    "colab_type": "code",
    "id": "pzgxpA0axXm9",
    "outputId": "878e32d2-39bd-4d0b-d7f7-c78a59c5fe50"
   },
   "outputs": [
    {
     "name": "stdout",
     "output_type": "stream",
     "text": [
      "Collecting pyspark\n",
      "\u001b[?25l  Downloading https://files.pythonhosted.org/packages/8e/b0/bf9020b56492281b9c9d8aae8f44ff51e1bc91b3ef5a884385cb4e389a40/pyspark-3.0.0.tar.gz (204.7MB)\n",
      "\u001b[K     |████████████████████████████████| 204.7MB 61kB/s \n",
      "\u001b[?25hCollecting py4j==0.10.9\n",
      "\u001b[?25l  Downloading https://files.pythonhosted.org/packages/9e/b6/6a4fb90cd235dc8e265a6a2067f2a2c99f0d91787f06aca4bcf7c23f3f80/py4j-0.10.9-py2.py3-none-any.whl (198kB)\n",
      "\u001b[K     |████████████████████████████████| 204kB 44.0MB/s \n",
      "\u001b[?25hBuilding wheels for collected packages: pyspark\n",
      "  Building wheel for pyspark (setup.py) ... \u001b[?25l\u001b[?25hdone\n",
      "  Created wheel for pyspark: filename=pyspark-3.0.0-py2.py3-none-any.whl size=205044182 sha256=abb3a9efbfc2ed2a11f65ed7053688ef5acfc3e42b92ee7c0a18b96909aadba1\n",
      "  Stored in directory: /root/.cache/pip/wheels/57/27/4d/ddacf7143f8d5b76c45c61ee2e43d9f8492fc5a8e78ebd7d37\n",
      "Successfully built pyspark\n",
      "Installing collected packages: py4j, pyspark\n",
      "Successfully installed py4j-0.10.9 pyspark-3.0.0\n"
     ]
    }
   ],
   "source": [
    "!pip install pyspark"
   ]
  },
  {
   "cell_type": "markdown",
   "metadata": {
    "colab_type": "text",
    "id": "E5rqxKPYL-EH"
   },
   "source": [
    "Elephas is an extension of Keras, which allows you to run distributed deep learning models at scale with Spark. To implement deep learning models, Elephas is installed which supports the following versions of Keras and Tensorflow. \n",
    "\n",
    "*   Keras: 2.2.4\n",
    "*   TensorFlow: 1.14.0\n",
    "\n",
    "Thus the above versions are installed and the runtime is restarted to use the new version."
   ]
  },
  {
   "cell_type": "code",
   "execution_count": 2,
   "metadata": {
    "colab": {
     "base_uri": "https://localhost:8080/",
     "height": 994
    },
    "colab_type": "code",
    "id": "8fMM3pZsVsXX",
    "outputId": "2f9c3c74-5838-4451-eaba-d801b334907c"
   },
   "outputs": [
    {
     "name": "stdout",
     "output_type": "stream",
     "text": [
      "Collecting q\n",
      "  Downloading https://files.pythonhosted.org/packages/53/bc/51619d89e0bd855567e7652fa16d06f1ed36a85f108a7fe71f6629bf719d/q-2.6-py2.py3-none-any.whl\n",
      "Collecting keras==2.2.4\n",
      "\u001b[?25l  Downloading https://files.pythonhosted.org/packages/5e/10/aa32dad071ce52b5502266b5c659451cfd6ffcbf14e6c8c4f16c0ff5aaab/Keras-2.2.4-py2.py3-none-any.whl (312kB)\n",
      "\u001b[K     |████████████████████████████████| 317kB 3.7MB/s \n",
      "\u001b[?25hRequirement already satisfied: keras-applications>=1.0.6 in /usr/local/lib/python3.6/dist-packages (from keras==2.2.4) (1.0.8)\n",
      "Requirement already satisfied: six>=1.9.0 in /usr/local/lib/python3.6/dist-packages (from keras==2.2.4) (1.12.0)\n",
      "Requirement already satisfied: numpy>=1.9.1 in /usr/local/lib/python3.6/dist-packages (from keras==2.2.4) (1.18.5)\n",
      "Requirement already satisfied: h5py in /usr/local/lib/python3.6/dist-packages (from keras==2.2.4) (2.10.0)\n",
      "Requirement already satisfied: scipy>=0.14 in /usr/local/lib/python3.6/dist-packages (from keras==2.2.4) (1.4.1)\n",
      "Requirement already satisfied: pyyaml in /usr/local/lib/python3.6/dist-packages (from keras==2.2.4) (3.13)\n",
      "Requirement already satisfied: keras-preprocessing>=1.0.5 in /usr/local/lib/python3.6/dist-packages (from keras==2.2.4) (1.1.2)\n",
      "Installing collected packages: q, keras\n",
      "  Found existing installation: Keras 2.3.1\n",
      "    Uninstalling Keras-2.3.1:\n",
      "      Successfully uninstalled Keras-2.3.1\n",
      "Successfully installed keras-2.2.4 q-2.6\n",
      "Requirement already satisfied: q in /usr/local/lib/python3.6/dist-packages (2.6)\n",
      "Collecting tensorflow==1.14.0\n",
      "\u001b[?25l  Downloading https://files.pythonhosted.org/packages/de/f0/96fb2e0412ae9692dbf400e5b04432885f677ad6241c088ccc5fe7724d69/tensorflow-1.14.0-cp36-cp36m-manylinux1_x86_64.whl (109.2MB)\n",
      "\u001b[K     |████████████████████████████████| 109.2MB 52kB/s \n",
      "\u001b[?25hRequirement already satisfied: keras-preprocessing>=1.0.5 in /usr/local/lib/python3.6/dist-packages (from tensorflow==1.14.0) (1.1.2)\n",
      "Requirement already satisfied: google-pasta>=0.1.6 in /usr/local/lib/python3.6/dist-packages (from tensorflow==1.14.0) (0.2.0)\n",
      "Collecting tensorflow-estimator<1.15.0rc0,>=1.14.0rc0\n",
      "\u001b[?25l  Downloading https://files.pythonhosted.org/packages/3c/d5/21860a5b11caf0678fbc8319341b0ae21a07156911132e0e71bffed0510d/tensorflow_estimator-1.14.0-py2.py3-none-any.whl (488kB)\n",
      "\u001b[K     |████████████████████████████████| 491kB 27.5MB/s \n",
      "\u001b[?25hRequirement already satisfied: termcolor>=1.1.0 in /usr/local/lib/python3.6/dist-packages (from tensorflow==1.14.0) (1.1.0)\n",
      "Requirement already satisfied: wrapt>=1.11.1 in /usr/local/lib/python3.6/dist-packages (from tensorflow==1.14.0) (1.12.1)\n",
      "Requirement already satisfied: numpy<2.0,>=1.14.5 in /usr/local/lib/python3.6/dist-packages (from tensorflow==1.14.0) (1.18.5)\n",
      "Requirement already satisfied: protobuf>=3.6.1 in /usr/local/lib/python3.6/dist-packages (from tensorflow==1.14.0) (3.12.2)\n",
      "Requirement already satisfied: grpcio>=1.8.6 in /usr/local/lib/python3.6/dist-packages (from tensorflow==1.14.0) (1.30.0)\n",
      "Requirement already satisfied: astor>=0.6.0 in /usr/local/lib/python3.6/dist-packages (from tensorflow==1.14.0) (0.8.1)\n",
      "Requirement already satisfied: six>=1.10.0 in /usr/local/lib/python3.6/dist-packages (from tensorflow==1.14.0) (1.12.0)\n",
      "Requirement already satisfied: keras-applications>=1.0.6 in /usr/local/lib/python3.6/dist-packages (from tensorflow==1.14.0) (1.0.8)\n",
      "Requirement already satisfied: absl-py>=0.7.0 in /usr/local/lib/python3.6/dist-packages (from tensorflow==1.14.0) (0.9.0)\n",
      "Requirement already satisfied: gast>=0.2.0 in /usr/local/lib/python3.6/dist-packages (from tensorflow==1.14.0) (0.3.3)\n",
      "Requirement already satisfied: wheel>=0.26 in /usr/local/lib/python3.6/dist-packages (from tensorflow==1.14.0) (0.34.2)\n",
      "Collecting tensorboard<1.15.0,>=1.14.0\n",
      "\u001b[?25l  Downloading https://files.pythonhosted.org/packages/91/2d/2ed263449a078cd9c8a9ba50ebd50123adf1f8cfbea1492f9084169b89d9/tensorboard-1.14.0-py3-none-any.whl (3.1MB)\n",
      "\u001b[K     |████████████████████████████████| 3.2MB 42.9MB/s \n",
      "\u001b[?25hRequirement already satisfied: setuptools in /usr/local/lib/python3.6/dist-packages (from protobuf>=3.6.1->tensorflow==1.14.0) (49.1.0)\n",
      "Requirement already satisfied: h5py in /usr/local/lib/python3.6/dist-packages (from keras-applications>=1.0.6->tensorflow==1.14.0) (2.10.0)\n",
      "Requirement already satisfied: werkzeug>=0.11.15 in /usr/local/lib/python3.6/dist-packages (from tensorboard<1.15.0,>=1.14.0->tensorflow==1.14.0) (1.0.1)\n",
      "Requirement already satisfied: markdown>=2.6.8 in /usr/local/lib/python3.6/dist-packages (from tensorboard<1.15.0,>=1.14.0->tensorflow==1.14.0) (3.2.2)\n",
      "Requirement already satisfied: importlib-metadata; python_version < \"3.8\" in /usr/local/lib/python3.6/dist-packages (from markdown>=2.6.8->tensorboard<1.15.0,>=1.14.0->tensorflow==1.14.0) (1.7.0)\n",
      "Requirement already satisfied: zipp>=0.5 in /usr/local/lib/python3.6/dist-packages (from importlib-metadata; python_version < \"3.8\"->markdown>=2.6.8->tensorboard<1.15.0,>=1.14.0->tensorflow==1.14.0) (3.1.0)\n",
      "Installing collected packages: tensorflow-estimator, tensorboard, tensorflow\n",
      "  Found existing installation: tensorflow-estimator 2.2.0\n",
      "    Uninstalling tensorflow-estimator-2.2.0:\n",
      "      Successfully uninstalled tensorflow-estimator-2.2.0\n",
      "  Found existing installation: tensorboard 2.2.2\n",
      "    Uninstalling tensorboard-2.2.2:\n",
      "      Successfully uninstalled tensorboard-2.2.2\n",
      "  Found existing installation: tensorflow 2.2.0\n",
      "    Uninstalling tensorflow-2.2.0:\n",
      "      Successfully uninstalled tensorflow-2.2.0\n",
      "Successfully installed tensorboard-1.14.0 tensorflow-1.14.0 tensorflow-estimator-1.14.0\n"
     ]
    }
   ],
   "source": [
    "!pip install q keras==2.2.4\n",
    "!pip install q tensorflow==1.14.0"
   ]
  },
  {
   "cell_type": "code",
   "execution_count": 5,
   "metadata": {
    "colab": {
     "base_uri": "https://localhost:8080/",
     "height": 50
    },
    "colab_type": "code",
    "id": "Ef5UUy5BVtlz",
    "outputId": "cc434fca-e3f9-4b3d-b08f-feff07232177"
   },
   "outputs": [
    {
     "name": "stdout",
     "output_type": "stream",
     "text": [
      "2.2.4\n",
      "1.14.0\n"
     ]
    }
   ],
   "source": [
    "import keras\n",
    "import tensorflow\n",
    "\n",
    "print(keras.__version__)\n",
    "print(tensorflow.__version__)"
   ]
  },
  {
   "cell_type": "markdown",
   "metadata": {
    "colab_type": "text",
    "id": "Lw9uQf_9i3Vn"
   },
   "source": [
    "Install elephas to integrate Keras with Apache Spark using !pip install elephas"
   ]
  },
  {
   "cell_type": "code",
   "execution_count": 4,
   "metadata": {
    "colab": {
     "base_uri": "https://localhost:8080/",
     "height": 1000
    },
    "colab_type": "code",
    "id": "I-AYhjdNV7dY",
    "outputId": "08e2cc21-3b79-4e6e-a3e9-9625e3011915"
   },
   "outputs": [
    {
     "name": "stdout",
     "output_type": "stream",
     "text": [
      "Collecting elephas\n",
      "  Downloading https://files.pythonhosted.org/packages/d9/f7/4b1542d95ad17fefff5cfbc0df732f8b082c758ed48d1738768df5cec4da/elephas-0.4.3-py3-none-any.whl\n",
      "Collecting hyperas\n",
      "  Downloading https://files.pythonhosted.org/packages/04/34/87ad6ffb42df9c1fa9c4c906f65813d42ad70d68c66af4ffff048c228cd4/hyperas-0.4.1-py3-none-any.whl\n",
      "Requirement already satisfied: flask in /usr/local/lib/python3.6/dist-packages (from elephas) (1.1.2)\n",
      "Requirement already satisfied: six in /usr/local/lib/python3.6/dist-packages (from elephas) (1.12.0)\n",
      "Requirement already satisfied: keras in /usr/local/lib/python3.6/dist-packages (from elephas) (2.2.4)\n",
      "Requirement already satisfied: tensorflow in /usr/local/lib/python3.6/dist-packages (from elephas) (1.14.0)\n",
      "Requirement already satisfied: pyspark in /usr/local/lib/python3.6/dist-packages (from elephas) (3.0.0)\n",
      "Requirement already satisfied: cython in /usr/local/lib/python3.6/dist-packages (from elephas) (0.29.21)\n",
      "Requirement already satisfied: entrypoints in /usr/local/lib/python3.6/dist-packages (from hyperas->elephas) (0.3)\n",
      "Requirement already satisfied: jupyter in /usr/local/lib/python3.6/dist-packages (from hyperas->elephas) (1.0.0)\n",
      "Requirement already satisfied: nbconvert in /usr/local/lib/python3.6/dist-packages (from hyperas->elephas) (5.6.1)\n",
      "Requirement already satisfied: hyperopt in /usr/local/lib/python3.6/dist-packages (from hyperas->elephas) (0.1.2)\n",
      "Requirement already satisfied: nbformat in /usr/local/lib/python3.6/dist-packages (from hyperas->elephas) (5.0.7)\n",
      "Requirement already satisfied: Werkzeug>=0.15 in /usr/local/lib/python3.6/dist-packages (from flask->elephas) (1.0.1)\n",
      "Requirement already satisfied: click>=5.1 in /usr/local/lib/python3.6/dist-packages (from flask->elephas) (7.1.2)\n",
      "Requirement already satisfied: itsdangerous>=0.24 in /usr/local/lib/python3.6/dist-packages (from flask->elephas) (1.1.0)\n",
      "Requirement already satisfied: Jinja2>=2.10.1 in /usr/local/lib/python3.6/dist-packages (from flask->elephas) (2.11.2)\n",
      "Requirement already satisfied: pyyaml in /usr/local/lib/python3.6/dist-packages (from keras->elephas) (3.13)\n",
      "Requirement already satisfied: keras-preprocessing>=1.0.5 in /usr/local/lib/python3.6/dist-packages (from keras->elephas) (1.1.2)\n",
      "Requirement already satisfied: keras-applications>=1.0.6 in /usr/local/lib/python3.6/dist-packages (from keras->elephas) (1.0.8)\n",
      "Requirement already satisfied: h5py in /usr/local/lib/python3.6/dist-packages (from keras->elephas) (2.10.0)\n",
      "Requirement already satisfied: scipy>=0.14 in /usr/local/lib/python3.6/dist-packages (from keras->elephas) (1.4.1)\n",
      "Requirement already satisfied: numpy>=1.9.1 in /usr/local/lib/python3.6/dist-packages (from keras->elephas) (1.18.5)\n",
      "Requirement already satisfied: grpcio>=1.8.6 in /usr/local/lib/python3.6/dist-packages (from tensorflow->elephas) (1.30.0)\n",
      "Requirement already satisfied: gast>=0.2.0 in /usr/local/lib/python3.6/dist-packages (from tensorflow->elephas) (0.3.3)\n",
      "Requirement already satisfied: wrapt>=1.11.1 in /usr/local/lib/python3.6/dist-packages (from tensorflow->elephas) (1.12.1)\n",
      "Requirement already satisfied: protobuf>=3.6.1 in /usr/local/lib/python3.6/dist-packages (from tensorflow->elephas) (3.12.2)\n",
      "Requirement already satisfied: google-pasta>=0.1.6 in /usr/local/lib/python3.6/dist-packages (from tensorflow->elephas) (0.2.0)\n",
      "Requirement already satisfied: tensorboard<1.15.0,>=1.14.0 in /usr/local/lib/python3.6/dist-packages (from tensorflow->elephas) (1.14.0)\n",
      "Requirement already satisfied: astor>=0.6.0 in /usr/local/lib/python3.6/dist-packages (from tensorflow->elephas) (0.8.1)\n",
      "Requirement already satisfied: tensorflow-estimator<1.15.0rc0,>=1.14.0rc0 in /usr/local/lib/python3.6/dist-packages (from tensorflow->elephas) (1.14.0)\n",
      "Requirement already satisfied: termcolor>=1.1.0 in /usr/local/lib/python3.6/dist-packages (from tensorflow->elephas) (1.1.0)\n",
      "Requirement already satisfied: wheel>=0.26 in /usr/local/lib/python3.6/dist-packages (from tensorflow->elephas) (0.34.2)\n",
      "Requirement already satisfied: absl-py>=0.7.0 in /usr/local/lib/python3.6/dist-packages (from tensorflow->elephas) (0.9.0)\n",
      "Requirement already satisfied: py4j==0.10.9 in /usr/local/lib/python3.6/dist-packages (from pyspark->elephas) (0.10.9)\n",
      "Requirement already satisfied: notebook in /usr/local/lib/python3.6/dist-packages (from jupyter->hyperas->elephas) (5.2.2)\n",
      "Requirement already satisfied: ipykernel in /usr/local/lib/python3.6/dist-packages (from jupyter->hyperas->elephas) (4.10.1)\n",
      "Requirement already satisfied: jupyter-console in /usr/local/lib/python3.6/dist-packages (from jupyter->hyperas->elephas) (5.2.0)\n",
      "Requirement already satisfied: ipywidgets in /usr/local/lib/python3.6/dist-packages (from jupyter->hyperas->elephas) (7.5.1)\n",
      "Requirement already satisfied: qtconsole in /usr/local/lib/python3.6/dist-packages (from jupyter->hyperas->elephas) (4.7.5)\n",
      "Requirement already satisfied: mistune<2,>=0.8.1 in /usr/local/lib/python3.6/dist-packages (from nbconvert->hyperas->elephas) (0.8.4)\n",
      "Requirement already satisfied: traitlets>=4.2 in /usr/local/lib/python3.6/dist-packages (from nbconvert->hyperas->elephas) (4.3.3)\n",
      "Requirement already satisfied: pandocfilters>=1.4.1 in /usr/local/lib/python3.6/dist-packages (from nbconvert->hyperas->elephas) (1.4.2)\n",
      "Requirement already satisfied: testpath in /usr/local/lib/python3.6/dist-packages (from nbconvert->hyperas->elephas) (0.4.4)\n",
      "Requirement already satisfied: pygments in /usr/local/lib/python3.6/dist-packages (from nbconvert->hyperas->elephas) (2.1.3)\n",
      "Requirement already satisfied: bleach in /usr/local/lib/python3.6/dist-packages (from nbconvert->hyperas->elephas) (3.1.5)\n",
      "Requirement already satisfied: defusedxml in /usr/local/lib/python3.6/dist-packages (from nbconvert->hyperas->elephas) (0.6.0)\n",
      "Requirement already satisfied: jupyter-core in /usr/local/lib/python3.6/dist-packages (from nbconvert->hyperas->elephas) (4.6.3)\n",
      "Requirement already satisfied: pymongo in /usr/local/lib/python3.6/dist-packages (from hyperopt->hyperas->elephas) (3.10.1)\n",
      "Requirement already satisfied: tqdm in /usr/local/lib/python3.6/dist-packages (from hyperopt->hyperas->elephas) (4.41.1)\n",
      "Requirement already satisfied: networkx in /usr/local/lib/python3.6/dist-packages (from hyperopt->hyperas->elephas) (2.4)\n",
      "Requirement already satisfied: future in /usr/local/lib/python3.6/dist-packages (from hyperopt->hyperas->elephas) (0.16.0)\n",
      "Requirement already satisfied: jsonschema!=2.5.0,>=2.4 in /usr/local/lib/python3.6/dist-packages (from nbformat->hyperas->elephas) (2.6.0)\n",
      "Requirement already satisfied: ipython-genutils in /usr/local/lib/python3.6/dist-packages (from nbformat->hyperas->elephas) (0.2.0)\n",
      "Requirement already satisfied: MarkupSafe>=0.23 in /usr/local/lib/python3.6/dist-packages (from Jinja2>=2.10.1->flask->elephas) (1.1.1)\n",
      "Requirement already satisfied: setuptools in /usr/local/lib/python3.6/dist-packages (from protobuf>=3.6.1->tensorflow->elephas) (49.1.0)\n",
      "Requirement already satisfied: markdown>=2.6.8 in /usr/local/lib/python3.6/dist-packages (from tensorboard<1.15.0,>=1.14.0->tensorflow->elephas) (3.2.2)\n",
      "Requirement already satisfied: terminado>=0.3.3; sys_platform != \"win32\" in /usr/local/lib/python3.6/dist-packages (from notebook->jupyter->hyperas->elephas) (0.8.3)\n",
      "Requirement already satisfied: jupyter-client in /usr/local/lib/python3.6/dist-packages (from notebook->jupyter->hyperas->elephas) (5.3.5)\n",
      "Requirement already satisfied: tornado>=4 in /usr/local/lib/python3.6/dist-packages (from notebook->jupyter->hyperas->elephas) (4.5.3)\n",
      "Requirement already satisfied: ipython>=4.0.0 in /usr/local/lib/python3.6/dist-packages (from ipykernel->jupyter->hyperas->elephas) (5.5.0)\n",
      "Requirement already satisfied: prompt-toolkit<2.0.0,>=1.0.0 in /usr/local/lib/python3.6/dist-packages (from jupyter-console->jupyter->hyperas->elephas) (1.0.18)\n",
      "Requirement already satisfied: widgetsnbextension~=3.5.0 in /usr/local/lib/python3.6/dist-packages (from ipywidgets->jupyter->hyperas->elephas) (3.5.1)\n",
      "Requirement already satisfied: qtpy in /usr/local/lib/python3.6/dist-packages (from qtconsole->jupyter->hyperas->elephas) (1.9.0)\n",
      "Requirement already satisfied: pyzmq>=17.1 in /usr/local/lib/python3.6/dist-packages (from qtconsole->jupyter->hyperas->elephas) (19.0.1)\n",
      "Requirement already satisfied: decorator in /usr/local/lib/python3.6/dist-packages (from traitlets>=4.2->nbconvert->hyperas->elephas) (4.4.2)\n",
      "Requirement already satisfied: webencodings in /usr/local/lib/python3.6/dist-packages (from bleach->nbconvert->hyperas->elephas) (0.5.1)\n",
      "Requirement already satisfied: packaging in /usr/local/lib/python3.6/dist-packages (from bleach->nbconvert->hyperas->elephas) (20.4)\n",
      "Requirement already satisfied: importlib-metadata; python_version < \"3.8\" in /usr/local/lib/python3.6/dist-packages (from markdown>=2.6.8->tensorboard<1.15.0,>=1.14.0->tensorflow->elephas) (1.7.0)\n",
      "Requirement already satisfied: ptyprocess; os_name != \"nt\" in /usr/local/lib/python3.6/dist-packages (from terminado>=0.3.3; sys_platform != \"win32\"->notebook->jupyter->hyperas->elephas) (0.6.0)\n",
      "Requirement already satisfied: python-dateutil>=2.1 in /usr/local/lib/python3.6/dist-packages (from jupyter-client->notebook->jupyter->hyperas->elephas) (2.8.1)\n",
      "Requirement already satisfied: pickleshare in /usr/local/lib/python3.6/dist-packages (from ipython>=4.0.0->ipykernel->jupyter->hyperas->elephas) (0.7.5)\n",
      "Requirement already satisfied: pexpect; sys_platform != \"win32\" in /usr/local/lib/python3.6/dist-packages (from ipython>=4.0.0->ipykernel->jupyter->hyperas->elephas) (4.8.0)\n",
      "Requirement already satisfied: simplegeneric>0.8 in /usr/local/lib/python3.6/dist-packages (from ipython>=4.0.0->ipykernel->jupyter->hyperas->elephas) (0.8.1)\n",
      "Requirement already satisfied: wcwidth in /usr/local/lib/python3.6/dist-packages (from prompt-toolkit<2.0.0,>=1.0.0->jupyter-console->jupyter->hyperas->elephas) (0.2.5)\n",
      "Requirement already satisfied: pyparsing>=2.0.2 in /usr/local/lib/python3.6/dist-packages (from packaging->bleach->nbconvert->hyperas->elephas) (2.4.7)\n",
      "Requirement already satisfied: zipp>=0.5 in /usr/local/lib/python3.6/dist-packages (from importlib-metadata; python_version < \"3.8\"->markdown>=2.6.8->tensorboard<1.15.0,>=1.14.0->tensorflow->elephas) (3.1.0)\n",
      "Installing collected packages: hyperas, elephas\n",
      "Successfully installed elephas-0.4.3 hyperas-0.4.1\n"
     ]
    }
   ],
   "source": [
    "!pip install elephas"
   ]
  },
  {
   "cell_type": "markdown",
   "metadata": {
    "colab_type": "text",
    "id": "1T5GNiYERbvf"
   },
   "source": [
    "The data for this project is taken from Kaggle: Fake and real news dataset. Steps to follow to download data from kaggle directly into jupyter notebook:\n",
    "\n",
    "1. Install kaggle using pip command\n",
    "2. Navigate to presonal kaggle account and click Create New API Token, a json file is downloaded into the system.\n",
    "3. Upload the file into the notebook using file.upload command\n",
    "4. Make a directory called Kaggle and copy the file into the directory. Change the permissions of the file using the below commands. \n",
    "       !mkdir -p ~/.kaggle\n",
    "       !cp kaggle.json ~/.kaggle/\n",
    "       !chmod 600 ~/.kaggle/kaggle.json\n",
    "5. Navigate to the Kaggle dataset page and click on the 3 dots on the right hand side of the page. Click on Copy API command and paste in the notebook cell to download the data. It looks something as below:\n",
    "        !kaggle datasets download -d clmentbisaillon/fake-and-real-news-dataset\n",
    "6. Using unzip command, the data is unzipped and the files are chekced using !ls command."
   ]
  },
  {
   "cell_type": "code",
   "execution_count": 6,
   "metadata": {
    "colab": {
     "base_uri": "https://localhost:8080/",
     "height": 90,
     "resources": {
      "http://localhost:8080/nbextensions/google.colab/files.js": {
       "data": "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",
       "headers": [
        [
         "content-type",
         "application/javascript"
        ]
       ],
       "ok": true,
       "status": 200,
       "status_text": ""
      }
     }
    },
    "colab_type": "code",
    "id": "B6EjrPIcDF2h",
    "outputId": "e28699c3-df20-4399-c5ea-62bc048c59d4"
   },
   "outputs": [
    {
     "data": {
      "text/html": [
       "\n",
       "     <input type=\"file\" id=\"files-2a008a8b-f012-484a-bf21-e606cf2db0b9\" name=\"files[]\" multiple disabled\n",
       "        style=\"border:none\" />\n",
       "     <output id=\"result-2a008a8b-f012-484a-bf21-e606cf2db0b9\">\n",
       "      Upload widget is only available when the cell has been executed in the\n",
       "      current browser session. Please rerun this cell to enable.\n",
       "      </output>\n",
       "      <script src=\"/nbextensions/google.colab/files.js\"></script> "
      ],
      "text/plain": [
       "<IPython.core.display.HTML object>"
      ]
     },
     "metadata": {
      "tags": []
     },
     "output_type": "display_data"
    },
    {
     "name": "stdout",
     "output_type": "stream",
     "text": [
      "Saving kaggle.json to kaggle.json\n"
     ]
    },
    {
     "data": {
      "text/plain": [
       "{'kaggle.json': b'{\"username\":\"rashmigrp\",\"key\":\"842c46e1bfdfcdb1a382cda3e783a72e\"}'}"
      ]
     },
     "execution_count": 6,
     "metadata": {
      "tags": []
     },
     "output_type": "execute_result"
    }
   ],
   "source": [
    "from google.colab import files\n",
    "#upload the kaggle.json file\n",
    "files.upload()"
   ]
  },
  {
   "cell_type": "code",
   "execution_count": 7,
   "metadata": {
    "colab": {},
    "colab_type": "code",
    "id": "GTyFwpV5DbFZ"
   },
   "outputs": [],
   "source": [
    "#make a directory and copy the json file\n",
    "!mkdir -p ~/.kaggle\n",
    "!cp kaggle.json ~/.kaggle/\n",
    "\n",
    "#change permission to 600: the owner has full read and write access to the file, while no other user can access the file\n",
    "!chmod 600 ~/.kaggle/kaggle.json"
   ]
  },
  {
   "cell_type": "code",
   "execution_count": 8,
   "metadata": {
    "colab": {
     "base_uri": "https://localhost:8080/",
     "height": 67
    },
    "colab_type": "code",
    "id": "jWxL5vxqDrzA",
    "outputId": "f7187582-5e57-4217-f0b3-274641f23ef7"
   },
   "outputs": [
    {
     "name": "stdout",
     "output_type": "stream",
     "text": [
      "Downloading fake-and-real-news-dataset.zip to /content\n",
      "\r",
      "  0% 0.00/41.0M [00:00<?, ?B/s]\r",
      " 12% 5.00M/41.0M [00:00<00:01, 34.0MB/s]\r",
      " 61% 25.0M/41.0M [00:00<00:00, 43.1MB/s]\r",
      "100% 41.0M/41.0M [00:00<00:00, 55.2MB/s]\n",
      "\n"
     ]
    }
   ],
   "source": [
    "#https://www.kaggle.com/clmentbisaillon/fake-and-real-news-dataset\n",
    "#download the data using Copy API command from the data page\n",
    "!kaggle datasets download -d clmentbisaillon/fake-and-real-news-dataset"
   ]
  },
  {
   "cell_type": "code",
   "execution_count": 9,
   "metadata": {
    "colab": {
     "base_uri": "https://localhost:8080/",
     "height": 34
    },
    "colab_type": "code",
    "id": "b-R4bVzrEJgv",
    "outputId": "88c34ba9-bf28-4975-88df-ce169a0bdd4f"
   },
   "outputs": [
    {
     "name": "stdout",
     "output_type": "stream",
     "text": [
      "fake-and-real-news-dataset.zip\tkaggle.json  sample_data\n"
     ]
    }
   ],
   "source": [
    "#list the files present\n",
    "!ls"
   ]
  },
  {
   "cell_type": "code",
   "execution_count": 10,
   "metadata": {
    "colab": {
     "base_uri": "https://localhost:8080/",
     "height": 67
    },
    "colab_type": "code",
    "id": "AO1Dd8CbEPUm",
    "outputId": "58945e81-18d9-49fa-caa6-697910481c17"
   },
   "outputs": [
    {
     "name": "stdout",
     "output_type": "stream",
     "text": [
      "Archive:  fake-and-real-news-dataset.zip\n",
      "  inflating: Fake.csv                \n",
      "  inflating: True.csv                \n"
     ]
    }
   ],
   "source": [
    "#unzip the fake news data\n",
    "!unzip \\*.zip"
   ]
  },
  {
   "cell_type": "code",
   "execution_count": 11,
   "metadata": {
    "colab": {
     "base_uri": "https://localhost:8080/",
     "height": 34
    },
    "colab_type": "code",
    "id": "NYFOcGLtES8u",
    "outputId": "8cdf39ee-9f3b-43c1-b79f-60c2f30e97f5"
   },
   "outputs": [
    {
     "name": "stdout",
     "output_type": "stream",
     "text": [
      "fake-and-real-news-dataset.zip\tFake.csv  kaggle.json  sample_data  True.csv\n"
     ]
    }
   ],
   "source": [
    "#check for the unzipped files\n",
    "!ls"
   ]
  },
  {
   "cell_type": "markdown",
   "metadata": {
    "colab_type": "text",
    "id": "V9E88M4fTpWV"
   },
   "source": [
    "**2. Import statements and load the data**\n",
    "\n",
    "**2.1 Import the libraries**\n",
    "\n",
    "The necessary libraries and modules are imported. The main import statements are:\n",
    "\n",
    "1. SparkContext: Main entry point for Spark functionality. A SparkContext represents the connection to a Spark cluster, and can be used to create RDD and broadcast variables on that cluster\n",
    "2. SparkConf: For configuring Spark and Used to set various Spark parameters as key-value pairs\n",
    "3. SQLContext: The entry point into all relational functionality in Spark is the SQLContext class. To create a basic SQLContext, all needed is a SparkContext."
   ]
  },
  {
   "cell_type": "code",
   "execution_count": 12,
   "metadata": {
    "colab": {
     "base_uri": "https://localhost:8080/",
     "height": 34
    },
    "colab_type": "code",
    "id": "9vU9wKE5x2iL",
    "outputId": "0ccd0f5f-e940-47ee-ffce-a1c86c68ad82"
   },
   "outputs": [
    {
     "name": "stdout",
     "output_type": "stream",
     "text": [
      "WARNING\n"
     ]
    }
   ],
   "source": [
    "from pyspark import SparkContext, SparkConf\n",
    "from pyspark.sql import SQLContext, SparkSession\n",
    "from pyspark.sql import *\n",
    "from pyspark.sql.functions import isnan, when, count, col, udf,  lower, regexp_replace, rand, round, lit, concat\n",
    "from pyspark.ml.feature import RegexTokenizer, StopWordsRemover, StringIndexer, HashingTF, IDF, IndexToString, Word2Vec\n",
    "from pyspark.sql.types import IntegerType\n",
    "from pyspark.ml import Pipeline\n",
    "from pyspark.ml.tuning import ParamGridBuilder, CrossValidator\n",
    "from pyspark.ml.evaluation import BinaryClassificationEvaluator\n",
    "from pyspark.ml.classification import RandomForestClassifier\n",
    "from pyspark.ml.classification import NaiveBayes\n",
    "from pyspark.ml.classification import GBTClassifier\n",
    "from pyspark.ml.evaluation import MulticlassClassificationEvaluator\n",
    "from pyspark.mllib.evaluation import MulticlassMetrics, BinaryClassificationMetrics\n",
    "from keras.models import Sequential\n",
    "from keras.layers.core import Dense, Dropout, Activation\n",
    "from keras import optimizers, regularizers\n",
    "from keras.optimizers import Adam\n",
    "import keras\n",
    "from elephas.spark_model import SparkModel\n",
    "from elephas.ml_model import ElephasEstimator\n",
    "import matplotlib.pyplot as plt\n",
    "import numpy as np"
   ]
  },
  {
   "cell_type": "code",
   "execution_count": 13,
   "metadata": {
    "colab": {},
    "colab_type": "code",
    "id": "sfQD9r7UkckQ"
   },
   "outputs": [],
   "source": [
    "#create a SparkConf with the following attributes:\n",
    "#setAppName: Set application name\n",
    "#setMaster: Set master URL to connect to\n",
    "#spark driver memory is a flag that controls the amount of memory to allocate for a driver, which is 1GB by default. It is\n",
    "#set to 15g to accomadate the text processing and training of models\n",
    "conf = SparkConf().setAppName('Fake_news_detection').setMaster('local[4]').set('spark.driver.memory', '15g')\n",
    "\n",
    "#create an entry point using SparkConf: conf\n",
    "sc = SparkContext(conf=conf)\n",
    "\n",
    "#SQLcontext is created using sc for realational functionality\n",
    "sql_context = SQLContext(sc)\n",
    "\n",
    "#spark = SparkSession.builder.getOrCreate()"
   ]
  },
  {
   "cell_type": "markdown",
   "metadata": {
    "colab_type": "text",
    "id": "DydwmdOylkev"
   },
   "source": [
    "**2.2 Load the data**\n",
    "\n",
    "The dataset is divided into two CSV files: Fake News and Real News. The two files are read individually and joined together to a single dataset. The target feature for Real data is set to True and Fake data is set to false. \n",
    "\n",
    "sql_context.read.csv is used to read the csv files"
   ]
  },
  {
   "cell_type": "code",
   "execution_count": 14,
   "metadata": {
    "colab": {},
    "colab_type": "code",
    "id": "kEXUiQVtyZQp"
   },
   "outputs": [],
   "source": [
    "#read the real news data\n",
    "true_data = sql_context.read.csv('True.csv', header = True, inferSchema = True)"
   ]
  },
  {
   "cell_type": "markdown",
   "metadata": {
    "colab_type": "text",
    "id": "D6I3D4v9m7r_"
   },
   "source": [
    "New column: target is created using withColumn and lit() funcitons.\n",
    "\n",
    "        withColumn: Returns a new DataFrame by adding a column or replacing the existing column that has the same name. \n",
    "        Parameters:\tcolName: string, name of the new column.\n",
    "                       col: a Column expression for the new column.\n",
    "        lit() function is used for column expression. It is a way for us to interact with column literals in PySpark"
   ]
  },
  {
   "cell_type": "code",
   "execution_count": 15,
   "metadata": {
    "colab": {
     "base_uri": "https://localhost:8080/",
     "height": 202
    },
    "colab_type": "code",
    "id": "vny3FbEYnpih",
    "outputId": "13063830-ec9c-41f9-e46a-688859abe701"
   },
   "outputs": [
    {
     "name": "stdout",
     "output_type": "stream",
     "text": [
      "+--------------------+--------------------+------------+------------------+------+\n",
      "|               title|                text|     subject|              date|target|\n",
      "+--------------------+--------------------+------------+------------------+------+\n",
      "|As U.S. budget fi...|WASHINGTON (Reute...|politicsNews|December 31, 2017 |  True|\n",
      "|U.S. military to ...|WASHINGTON (Reute...|politicsNews|December 29, 2017 |  True|\n",
      "|Senior U.S. Repub...|WASHINGTON (Reute...|politicsNews|December 31, 2017 |  True|\n",
      "|FBI Russia probe ...|WASHINGTON (Reute...|politicsNews|December 30, 2017 |  True|\n",
      "|Trump wants Posta...|SEATTLE/WASHINGTO...|politicsNews|December 29, 2017 |  True|\n",
      "+--------------------+--------------------+------------+------------------+------+\n",
      "only showing top 5 rows\n",
      "\n"
     ]
    }
   ],
   "source": [
    "#create a new column \"target\" with values as True\n",
    "true_data = true_data.withColumn(\"target\", lit(\"True\"))\n",
    "\n",
    "#display the true news data\n",
    "true_data.show(5)"
   ]
  },
  {
   "cell_type": "code",
   "execution_count": 16,
   "metadata": {
    "colab": {
     "base_uri": "https://localhost:8080/",
     "height": 34
    },
    "colab_type": "code",
    "id": "lMDrzQu1TRi8",
    "outputId": "09e10dd4-12c4-48ce-923e-58b9809477dd"
   },
   "outputs": [
    {
     "data": {
      "text/plain": [
       "21417"
      ]
     },
     "execution_count": 16,
     "metadata": {
      "tags": []
     },
     "output_type": "execute_result"
    }
   ],
   "source": [
    "#check the length of the true data\n",
    "true_data.count()"
   ]
  },
  {
   "cell_type": "code",
   "execution_count": 17,
   "metadata": {
    "colab": {},
    "colab_type": "code",
    "id": "hgu7BQ5-yg_J"
   },
   "outputs": [],
   "source": [
    "#read the fake news data\n",
    "fake_data = sql_context.read.csv('Fake.csv', header=True, inferSchema=True)"
   ]
  },
  {
   "cell_type": "code",
   "execution_count": 18,
   "metadata": {
    "colab": {
     "base_uri": "https://localhost:8080/",
     "height": 202
    },
    "colab_type": "code",
    "id": "KFyGGXqARqHd",
    "outputId": "cd2cdecf-885f-46a5-a5da-31c9a86cc660"
   },
   "outputs": [
    {
     "name": "stdout",
     "output_type": "stream",
     "text": [
      "+--------------------+--------------------+-------+-----------------+------+\n",
      "|               title|                text|subject|             date|target|\n",
      "+--------------------+--------------------+-------+-----------------+------+\n",
      "| Donald Trump Sen...|Donald Trump just...|   News|December 31, 2017|  Fake|\n",
      "| Drunk Bragging T...|House Intelligenc...|   News|December 31, 2017|  Fake|\n",
      "| Sheriff David Cl...|On Friday, it was...|   News|December 30, 2017|  Fake|\n",
      "| Trump Is So Obse...|On Christmas day,...|   News|December 29, 2017|  Fake|\n",
      "| Pope Francis Jus...|Pope Francis used...|   News|December 25, 2017|  Fake|\n",
      "+--------------------+--------------------+-------+-----------------+------+\n",
      "only showing top 5 rows\n",
      "\n"
     ]
    }
   ],
   "source": [
    "#create a new column \"target\" with values as Fake\n",
    "fake_data = fake_data.withColumn(\"target\", lit(\"Fake\"))\n",
    "\n",
    "#display the fake news data\n",
    "fake_data.show(5)"
   ]
  },
  {
   "cell_type": "code",
   "execution_count": 19,
   "metadata": {
    "colab": {
     "base_uri": "https://localhost:8080/",
     "height": 34
    },
    "colab_type": "code",
    "id": "Yzte3kKwTUcl",
    "outputId": "4936f9eb-52e2-4e40-d674-82a0d39a2680"
   },
   "outputs": [
    {
     "data": {
      "text/plain": [
       "23489"
      ]
     },
     "execution_count": 19,
     "metadata": {
      "tags": []
     },
     "output_type": "execute_result"
    }
   ],
   "source": [
    "#check the length of fake news \n",
    "fake_data.count()"
   ]
  },
  {
   "cell_type": "code",
   "execution_count": 20,
   "metadata": {
    "colab": {},
    "colab_type": "code",
    "id": "KGzah0bOSq8k"
   },
   "outputs": [],
   "source": [
    "#concatanate fake and real news using union function \n",
    "data = true_data.union(fake_data)"
   ]
  },
  {
   "cell_type": "code",
   "execution_count": 21,
   "metadata": {
    "colab": {},
    "colab_type": "code",
    "id": "0pmpnEjmb1lw"
   },
   "outputs": [],
   "source": [
    "#concate title and text column to create a new column news\n",
    "data = data.withColumn('news',concat(col('title'),lit(' '), col('text')))"
   ]
  },
  {
   "cell_type": "code",
   "execution_count": 22,
   "metadata": {
    "colab": {},
    "colab_type": "code",
    "id": "xSMJFfbLRhPe"
   },
   "outputs": [],
   "source": [
    "#shuffle the data\n",
    "data = data.orderBy(rand())"
   ]
  },
  {
   "cell_type": "code",
   "execution_count": 23,
   "metadata": {
    "colab": {
     "base_uri": "https://localhost:8080/",
     "height": 202
    },
    "colab_type": "code",
    "id": "YysbEPq4S63L",
    "outputId": "d9a3e613-e116-4cb4-b7c2-83b76d48c838"
   },
   "outputs": [
    {
     "name": "stdout",
     "output_type": "stream",
     "text": [
      "+--------------------+--------------------+------------+----------------+------+--------------------+\n",
      "|               title|                text|     subject|            date|target|                news|\n",
      "+--------------------+--------------------+------------+----------------+------+--------------------+\n",
      "| Sean Hannity Dis...|Conspiracy-loving...|        News|    May 22, 2017|  Fake| Sean Hannity Dis...|\n",
      "|TRUMP WOULD FEED ...|While Donald Trum...|    politics|    Sep 26, 2015|  Fake|TRUMP WOULD FEED ...|\n",
      "|Illinois governor...|CHICAGO (Reuters)...|politicsNews|August 26, 2016 |  True|Illinois governor...|\n",
      "| Republicans Puni...|Georgia conservat...|        News|  April 17, 2016|  Fake| Republicans Puni...|\n",
      "|FIRE THIS WOMAN! ...| Please RT until ...|   left-news|     Feb 3, 2017|  Fake|FIRE THIS WOMAN! ...|\n",
      "+--------------------+--------------------+------------+----------------+------+--------------------+\n",
      "only showing top 5 rows\n",
      "\n"
     ]
    }
   ],
   "source": [
    "#dispaly the combined data\n",
    "data.show(5)"
   ]
  },
  {
   "cell_type": "code",
   "execution_count": 24,
   "metadata": {
    "colab": {
     "base_uri": "https://localhost:8080/",
     "height": 34
    },
    "colab_type": "code",
    "id": "r72POcaES8Wq",
    "outputId": "63ac976a-fd78-4021-eeb4-663f58164d27"
   },
   "outputs": [
    {
     "name": "stdout",
     "output_type": "stream",
     "text": [
      "The length of the data: 44906\n"
     ]
    }
   ],
   "source": [
    "#check the length of combined data\n",
    "print(\"The length of the data: \" +str(data.count()))"
   ]
  },
  {
   "cell_type": "markdown",
   "metadata": {
    "colab_type": "text",
    "id": "ni0bbONToxiG"
   },
   "source": [
    "**3. Data Cleaning**\n",
    "\n",
    "Remove the null and NaN values from all the columns of the data"
   ]
  },
  {
   "cell_type": "code",
   "execution_count": 25,
   "metadata": {
    "colab": {},
    "colab_type": "code",
    "id": "nuvEAGRFU2U-"
   },
   "outputs": [],
   "source": [
    "#remove title, subject and date columns\n",
    "columns = [\"title\",\"text\", \"subject\", \"date\"]\n",
    "data = data.drop(*columns)"
   ]
  },
  {
   "cell_type": "code",
   "execution_count": 26,
   "metadata": {
    "colab": {},
    "colab_type": "code",
    "id": "cLBJ_qGAo42N"
   },
   "outputs": [],
   "source": [
    "#drop the null values\n",
    "data = data.na.drop()"
   ]
  },
  {
   "cell_type": "code",
   "execution_count": 27,
   "metadata": {
    "colab": {
     "base_uri": "https://localhost:8080/",
     "height": 118
    },
    "colab_type": "code",
    "id": "S2h7Yn1qV0_e",
    "outputId": "5d76bfad-b2c2-4e5c-fb54-60f19d4240d4"
   },
   "outputs": [
    {
     "name": "stdout",
     "output_type": "stream",
     "text": [
      "+------+----+\n",
      "|target|news|\n",
      "+------+----+\n",
      "|     0|   0|\n",
      "+------+----+\n",
      "\n"
     ]
    }
   ],
   "source": [
    "#check for null values\n",
    "data.select([count(when(isnan(c), c)).alias(c) for c in data.columns]).show()"
   ]
  },
  {
   "cell_type": "code",
   "execution_count": 28,
   "metadata": {
    "colab": {
     "base_uri": "https://localhost:8080/",
     "height": 84
    },
    "colab_type": "code",
    "id": "4EUXa2ptzSYc",
    "outputId": "81f92c46-4d8e-4404-bcc0-4d2c80dfa0fd"
   },
   "outputs": [
    {
     "name": "stdout",
     "output_type": "stream",
     "text": [
      "root\n",
      " |-- target: string (nullable = false)\n",
      " |-- news: string (nullable = true)\n",
      "\n"
     ]
    }
   ],
   "source": [
    "#print the schema of the data\n",
    "data.printSchema()"
   ]
  },
  {
   "cell_type": "markdown",
   "metadata": {
    "colab_type": "text",
    "id": "xzgKiKyl0Hdr"
   },
   "source": [
    "This shows all the columns of the data are string type and descriptive features columns can be null but the target feature cannot be null."
   ]
  },
  {
   "cell_type": "markdown",
   "metadata": {
    "colab_type": "text",
    "id": "P37IisItsfmV"
   },
   "source": [
    "**4. Text Preprocessing**\n",
    "\n",
    "The text preprocessing involves the following steps:\n",
    "\n",
    "1. Tokenize the text into words using RegexTokenizer which is more advanced tokenization based on regular expression matching\n",
    "2. Removal of Stopwords using StopWordsRemover. Default english stopwords are used to remove unwanted words from the data.\n",
    "3. Converting text to numerical. Word2Vec is an Estimator which takes sequences of words representing documents, computes distributed vector representation of words and trains a Word2VecModel. The model maps each word to a unique fixed-size vector. The Word2VecModel transforms each document into a vector using the average of all words in the document. The advantage of this representations is that similar words are close in the vector space, which makes generalization to novel patterns easier and model estimation more robust.\n",
    "\n",
    "4. Convert target categorical values into intergers using StringIndexer.  StringIndexer encodes a string column of labels to a column of label indices.\n"
   ]
  },
  {
   "cell_type": "code",
   "execution_count": 29,
   "metadata": {
    "colab": {},
    "colab_type": "code",
    "id": "itWOzkU1BB9B"
   },
   "outputs": [],
   "source": [
    "'''Tokenization'''\n",
    "#set the Regextokenizer with pattern = \\\\W\n",
    "tokenizer = RegexTokenizer(inputCol = \"news\", outputCol = \"words\", pattern = \"\\\\W\")\n",
    "\n",
    "'''Stopwords removal'''\n",
    "#load the default english stopwords\n",
    "add_stopwords = StopWordsRemover.loadDefaultStopWords(\"english\")\n",
    "\n",
    "#create a stopwords functions for thw words column from the tokenizer\n",
    "remover = StopWordsRemover(inputCol = \"words\", outputCol = \"filtered\").setStopWords(add_stopwords)\n",
    "#remover.transform(tokenizer).show(truncate=False)\n",
    "\n",
    "'''Word to vector'''\n",
    "w2v = Word2Vec(vectorSize = 350, minCount = 0, inputCol = \"filtered\", outputCol = \"features\")\n",
    "\n",
    "'''Label Indexer'''\n",
    "#Convert the target feature categorical values into intergers\n",
    "label_stringIdx = StringIndexer(inputCol = \"target\", outputCol = \"label\")"
   ]
  },
  {
   "cell_type": "markdown",
   "metadata": {
    "colab_type": "text",
    "id": "UfjVSAF31Yma"
   },
   "source": [
    "Next create a Pipelime for the above functions to be perfomed on the data. The stages of the Pipline are set as: tokenization, removal of stopwords, coverting words to vector using Word2vec and converting categorical values to intergers."
   ]
  },
  {
   "cell_type": "code",
   "execution_count": 30,
   "metadata": {
    "colab": {
     "base_uri": "https://localhost:8080/",
     "height": 202
    },
    "colab_type": "code",
    "id": "XpYmz8jq1U1b",
    "outputId": "78545cda-a64e-4731-f7fb-b1bac8ed4327"
   },
   "outputs": [
    {
     "name": "stdout",
     "output_type": "stream",
     "text": [
      "+------+--------------------+--------------------+--------------------+--------------------+-----+\n",
      "|target|                news|               words|            filtered|            features|label|\n",
      "+------+--------------------+--------------------+--------------------+--------------------+-----+\n",
      "|  Fake| Sean Hannity Dis...|[sean, hannity, d...|[sean, hannity, d...|[-0.0984267791070...|  0.0|\n",
      "|  Fake|TRUMP WOULD FEED ...|[trump, would, fe...|[trump, feed, chi...|[-0.0302769050211...|  0.0|\n",
      "|  True|Illinois governor...|[illinois, govern...|[illinois, govern...|[0.01869498767281...|  1.0|\n",
      "|  Fake| Republicans Puni...|[republicans, pun...|[republicans, pun...|[-0.0119417001244...|  0.0|\n",
      "|  Fake|FIRE THIS WOMAN! ...|[fire, this, woma...|[fire, woman, ran...|[-0.0847264165555...|  0.0|\n",
      "+------+--------------------+--------------------+--------------------+--------------------+-----+\n",
      "only showing top 5 rows\n",
      "\n"
     ]
    }
   ],
   "source": [
    "#pipleline for text pre-processing\n",
    "pipeline = Pipeline(stages = [tokenizer, remover, w2v, label_stringIdx])\n",
    "\n",
    "#fit the dat for the pipeline\n",
    "pipelineFit = pipeline.fit(data)\n",
    "dataset = pipelineFit.transform(data)\n",
    "\n",
    "dataset.show(5)"
   ]
  },
  {
   "cell_type": "markdown",
   "metadata": {
    "colab_type": "text",
    "id": "abSMYFSg3zR6"
   },
   "source": [
    "The data is converted to numerical format and below shows the schema of the preprocessed data."
   ]
  },
  {
   "cell_type": "code",
   "execution_count": 31,
   "metadata": {
    "colab": {
     "base_uri": "https://localhost:8080/",
     "height": 185
    },
    "colab_type": "code",
    "id": "ELiqLTTmHqA3",
    "outputId": "de358cfb-a358-4820-fbf9-f1e3fe783c75"
   },
   "outputs": [
    {
     "name": "stdout",
     "output_type": "stream",
     "text": [
      "root\n",
      " |-- target: string (nullable = false)\n",
      " |-- news: string (nullable = true)\n",
      " |-- words: array (nullable = true)\n",
      " |    |-- element: string (containsNull = true)\n",
      " |-- filtered: array (nullable = true)\n",
      " |    |-- element: string (containsNull = true)\n",
      " |-- features: vector (nullable = true)\n",
      " |-- label: double (nullable = false)\n",
      "\n"
     ]
    }
   ],
   "source": [
    "#check the schema for preprocessed data\n",
    "dataset.printSchema()"
   ]
  },
  {
   "cell_type": "markdown",
   "metadata": {
    "colab_type": "text",
    "id": "bsav6mnz4EDD"
   },
   "source": [
    " **5. Function for Evaluation Metrics**\n",
    "\n",
    "This project is implmented using three machine learning algorithms. The performance of the models are evaluated confusion matrix, F1 score and Area under the curve. The model with less False positives and false negatives, high F1 score and AUC will be considered as a better model for fake news detection. Matplotlib and Numpy is used to plot the confusion matrix. "
   ]
  },
  {
   "cell_type": "code",
   "execution_count": 32,
   "metadata": {
    "colab": {},
    "colab_type": "code",
    "id": "4Kuv7a9AhJvO"
   },
   "outputs": [],
   "source": [
    "#function to calculate the evaluation metrics\n",
    "def eval_metrics(predictions):\n",
    "    '''Accuracy'''\n",
    "    #label = predictions.select(['prediction', 'label'])\n",
    "    evaluator = MulticlassClassificationEvaluator(labelCol = \"label\", predictionCol = \"prediction\", metricName = \"accuracy\")\n",
    "    accuracy = evaluator.evaluate(predictions)*100\n",
    "\n",
    "    #select prediction and label columns to calculate metric values\n",
    "    results = predictions.select(['prediction', 'label'])\n",
    "    #convert the results to rdd to get predictions and labels\n",
    "    predictionAndLabels = results.rdd\n",
    "  \n",
    "    '''Area under the curve'''\n",
    "    #binary_evaluator = BinaryClassificationEvaluator()\n",
    "    #auc = binary_evaluator.evaluate(predictions, {binary_evaluator.metricName: \"areaUnderROC\"})\n",
    "    binary_evaluator = BinaryClassificationMetrics(predictionAndLabels)\n",
    "    auc = binary_evaluator.areaUnderROC\n",
    "\n",
    "    '''Classification report'''\n",
    "    #create a multiclassmetrics instance\n",
    "    metrics = MulticlassMetrics(predictionAndLabels)\n",
    "\n",
    "    #compute Recall with respect to Real and fake news data\n",
    "    real_recall = metrics.recall(1.0)\n",
    "    fake_recall = metrics.recall(0.0)\n",
    "\n",
    "    #compute Precision with respect to Real and fake news data\n",
    "    real_precision = metrics.precision(1.0)\n",
    "    fake_precision = metrics.precision(0.0)\n",
    "\n",
    "    #compute F1 Score with respect to Real and fake news data\n",
    "    real_f1 = metrics.fMeasure(1.0)\n",
    "    fake_f1 = metrics.fMeasure(0.0)\n",
    "\n",
    "    #create a classificaiton report for the model\n",
    "    real = Row(News = 'Real', recall = real_recall, precision = real_precision, f1_score = real_f1)\n",
    "    fake = Row(News = 'Fake', recall = fake_recall, precision = fake_precision, f1_score = fake_f1) \n",
    "  \n",
    "    classification_report = [real, fake]\n",
    "    classification_report_df = sql_context.createDataFrame(classification_report)\n",
    "\n",
    "    '''Confusion matrix'''\n",
    "    conf_matrix = metrics.confusionMatrix().toArray()\n",
    "  \n",
    "    return accuracy, auc, classification_report_df, conf_matrix"
   ]
  },
  {
   "cell_type": "code",
   "execution_count": 33,
   "metadata": {
    "colab": {},
    "colab_type": "code",
    "id": "J1E4dDnQLozO"
   },
   "outputs": [],
   "source": [
    "#function for confusion matrix\n",
    "def plot_confusion_matrix(cm, target_names, title='Confusion Matrix', cmap=plt.cm.Blues):\n",
    "    plt.imshow(cm, interpolation='nearest', cmap=cmap)\n",
    "    plt.title(title)\n",
    "    plt.colorbar()\n",
    "    tick_marks = np.arange(len(target_names))\n",
    "    plt.xticks(tick_marks, target_names)\n",
    "    plt.yticks(tick_marks, target_names)\n",
    "    plt.tight_layout()\n",
    "\n",
    "    width, height = cm.shape\n",
    "\n",
    "    for x in range(width):\n",
    "        for y in range(height):\n",
    "            plt.annotate(str(cm[x][y]), xy=(y, x), \n",
    "                        horizontalalignment='center',\n",
    "                        verticalalignment='center')\n",
    "            \n",
    "    plt.ylabel('True Label')\n",
    "    plt.xlabel('Predicted Label')"
   ]
  },
  {
   "cell_type": "markdown",
   "metadata": {
    "colab_type": "text",
    "id": "SVoZZnmS4AGR"
   },
   "source": [
    "**6. Modelling**\n",
    "\n",
    "This section implements different algorithms to predict the fake news. Initially the data is split into train and test in the ratio 80:20 using randomSplit function."
   ]
  },
  {
   "cell_type": "code",
   "execution_count": 34,
   "metadata": {
    "colab": {},
    "colab_type": "code",
    "id": "q5Q2-4N2zuUX"
   },
   "outputs": [],
   "source": [
    "#split the data\n",
    "train, test = dataset.randomSplit([0.8, 0.2])"
   ]
  },
  {
   "cell_type": "code",
   "execution_count": 35,
   "metadata": {
    "colab": {
     "base_uri": "https://localhost:8080/",
     "height": 50
    },
    "colab_type": "code",
    "id": "WgMbCeQZ4mEn",
    "outputId": "8ba122f9-c04d-400e-fd23-ea8108f60aa8"
   },
   "outputs": [
    {
     "name": "stdout",
     "output_type": "stream",
     "text": [
      "Training Dataset Count: 35843\n",
      "Test Dataset Count: 9055\n"
     ]
    }
   ],
   "source": [
    "#check the train and test data count\n",
    "print(\"Training Dataset Count: \" + str(train.count()))\n",
    "print(\"Test Dataset Count: \" + str(test.count()))"
   ]
  },
  {
   "cell_type": "markdown",
   "metadata": {
    "colab_type": "text",
    "id": "9mILXdfVbmNL"
   },
   "source": [
    "**6.1 Decision Tree**\n",
    "\n",
    "A decision tree is a flowchart-like tree structure with internal node representing feature, the branch represents a decision rule, and each leaf node represents the outcome. The topmost node is known as the root node and the bottom nodes are leaf nodes. Decision trees are white box ML algorithms that can handle high dimensional data with good accuracy.\n",
    "\n",
    "The decision trees selects the best feature to split at the root node based on Attribute Selection measures: Gini Index or Entropy. The measured values is calculated at every step before a node split till the required number of nodes are grown. The ASM used here is Gini Index. An attribute with higher Gini Index is considered for the split. Gini Index considers a binary split for each attribute using the below formula. \n",
    "\n",
    "$Gini(D) = 1 - \\sum_{i=1}^m P_i^2$\n",
    "\n",
    "Where, Pi is the probability that a tuple in D belongs to class Ci.\n",
    "\n",
    "The decision parameters:\n",
    "\n",
    "  1. labelCol: Label column name\n",
    "  2. featureCol: features column name\n",
    "  3. impurity: Gini index.  "
   ]
  },
  {
   "cell_type": "code",
   "execution_count": 36,
   "metadata": {
    "colab": {},
    "colab_type": "code",
    "id": "r7r3loRpbomx"
   },
   "outputs": [],
   "source": [
    "from pyspark.ml.classification import DecisionTreeClassifier\n",
    "#define decision tree\n",
    "dt = DecisionTreeClassifier(labelCol=\"label\", featuresCol = \"features\")\n",
    "\n",
    "#train the model and predict on test data\n",
    "dtModel = dt.fit(train)\n",
    "dt_predictions = dtModel.transform(test)"
   ]
  },
  {
   "cell_type": "code",
   "execution_count": 37,
   "metadata": {
    "colab": {},
    "colab_type": "code",
    "id": "dJS9mr49cBi6"
   },
   "outputs": [],
   "source": [
    "#calculate the evaluation metrics of naive bayes model\n",
    "dt_accuracy, dt_auc, dt_classification_report_df, dt_conf_matrix = eval_metrics(dt_predictions)"
   ]
  },
  {
   "cell_type": "code",
   "execution_count": 38,
   "metadata": {
    "colab": {
     "base_uri": "https://localhost:8080/",
     "height": 50
    },
    "colab_type": "code",
    "id": "2XILnMIzcObn",
    "outputId": "14ccb257-bf94-4324-a95b-12af13954561"
   },
   "outputs": [
    {
     "name": "stdout",
     "output_type": "stream",
     "text": [
      "Decision Tree accuracy is: 91.00\n",
      "Decision Tree AUC is: 0.91\n"
     ]
    }
   ],
   "source": [
    "#print the auuracy and area under the curve\n",
    "print(\"Decision Tree accuracy is: {:0.2f}\".format(dt_accuracy))\n",
    "print(\"Decision Tree AUC is: {:0.2f}\".format(dt_auc))"
   ]
  },
  {
   "cell_type": "code",
   "execution_count": 39,
   "metadata": {
    "colab": {
     "base_uri": "https://localhost:8080/",
     "height": 134
    },
    "colab_type": "code",
    "id": "MhTI-fNIch4y",
    "outputId": "f651082b-41cb-425f-b076-2ea09cd3390b"
   },
   "outputs": [
    {
     "name": "stdout",
     "output_type": "stream",
     "text": [
      "+----+------------------+------------------+------------------+\n",
      "|News|            recall|         precision|          f1_score|\n",
      "+----+------------------+------------------+------------------+\n",
      "|Real|0.8952555581022232|0.9160412757973734|0.9055291526602528|\n",
      "|Fake|0.9236999147485081|0.9046128156960969|0.9140567331013393|\n",
      "+----+------------------+------------------+------------------+\n",
      "\n"
     ]
    }
   ],
   "source": [
    "#display the classification report\n",
    "dt_classification_report_df.show()"
   ]
  },
  {
   "cell_type": "code",
   "execution_count": 40,
   "metadata": {
    "colab": {
     "base_uri": "https://localhost:8080/",
     "height": 67
    },
    "colab_type": "code",
    "id": "tgxwFuI3cneW",
    "outputId": "d0a3341a-d676-4213-a376-8049b4f443b9"
   },
   "outputs": [
    {
     "name": "stdout",
     "output_type": "stream",
     "text": [
      "Confusion Matrix\n",
      "[[4334.  358.]\n",
      " [ 457. 3906.]]\n"
     ]
    }
   ],
   "source": [
    "#print the confusion matrix\n",
    "print(\"Confusion Matrix\")\n",
    "print(dt_conf_matrix)"
   ]
  },
  {
   "cell_type": "code",
   "execution_count": 41,
   "metadata": {
    "colab": {
     "base_uri": "https://localhost:8080/",
     "height": 311
    },
    "colab_type": "code",
    "id": "hT6YimMzcrDz",
    "outputId": "d27b94ae-ff09-42e1-f1b3-3a107d364316"
   },
   "outputs": [
    {
     "data": {
      "image/png": "[encoded data removed]",
      "text/plain": [
       "<Figure size 432x288 with 2 Axes>"
      ]
     },
     "metadata": {
      "needs_background": "light",
      "tags": []
     },
     "output_type": "display_data"
    }
   ],
   "source": [
    "#plot confusion matrix\n",
    "plot_confusion_matrix(dt_conf_matrix,[\"Fake\",\"Real\"])"
   ]
  },
  {
   "cell_type": "markdown",
   "metadata": {
    "colab_type": "text",
    "id": "p6kibCd3uR1M"
   },
   "source": [
    "**6.2 Gradient Bossting Tree Classifier**\n",
    "\n",
    "Gradient Boosting classifiers consists of many weak classifiers that are combined together to make a strong model. The training of the models takes places sequentially and decision trees are mostly used as classfiers in Gradient boosting. Thus GBTs train one tree at a time and training is only parallelized at the single tree level.\n",
    "\n",
    "The main aim of GBT is to minimize the loss of the model. The model trains on the wieghted dataset where all the instances in the data are assigned same weight initially and the classification is done for the first tree. For the next tree the wieghts are misclassified instances are increased while the weights of correctly classified instances are decreased. This process is continued till the loss function has reached it minimum. The loss function for text classification would be how well our model can classify the fake news. \n",
    "\n",
    "A 3-Fold cross validation is performed to tune the parameters of the RF classifier that are defined using ParamGridBuilder.The parameters tuned are:\n",
    "\n",
    "  1. maxDepth: Maximum depth of the tree.\n",
    "  2. minInstancesPerNode: Minimum number of instances each child must have after split.\n",
    "  3. maxIter: Max number of iterations\n",
    "  4. subsamplingRate: Fraction of the training data used for learning each decision tree. It is set to 0.75 where 75% percent of train data is used for training and 25% for validation\n",
    "  5. stepSize: Step size (a.k.a. learning rate) in interval (0, 1] for shrinking the contribution of each estimator"
   ]
  },
  {
   "cell_type": "code",
   "execution_count": 42,
   "metadata": {
    "colab": {
     "base_uri": "https://localhost:8080/",
     "height": 457
    },
    "colab_type": "code",
    "id": "CyA5pb_s85T9",
    "outputId": "1dcc3bb0-8966-4a0b-9cae-5b14ed94cfec"
   },
   "outputs": [
    {
     "name": "stdout",
     "output_type": "stream",
     "text": [
      "cacheNodeIds: If false, the algorithm will pass trees to executors to match instances with nodes. If true, the algorithm will cache node IDs for each instance. Caching can speed up training of deeper trees. Users can set how often should the cache be checkpointed or disable it by setting checkpointInterval. (default: False)\n",
      "checkpointInterval: set checkpoint interval (>= 1) or disable checkpoint (-1). E.g. 10 means that the cache will get checkpointed every 10 iterations. Note: this setting will be ignored if the checkpoint directory is not set in the SparkContext. (default: 10)\n",
      "featureSubsetStrategy: The number of features to consider for splits at each tree node. Supported options: 'auto' (choose automatically for task: If numTrees == 1, set to 'all'. If numTrees > 1 (forest), set to 'sqrt' for classification and to 'onethird' for regression), 'all' (use all features), 'onethird' (use 1/3 of the features), 'sqrt' (use sqrt(number of features)), 'log2' (use log2(number of features)), 'n' (when n is in the range (0, 1.0], use n * number of features. When n is in the range (1, number of features), use n features). default = 'auto' (default: all)\n",
      "featuresCol: features column name. (default: features)\n",
      "impurity: Criterion used for information gain calculation (case-insensitive). Supported options: variance (default: variance)\n",
      "labelCol: label column name. (default: label)\n",
      "leafCol: Leaf indices column name. Predicted leaf index of each instance in each tree by preorder. (default: )\n",
      "lossType: Loss function which GBT tries to minimize (case-insensitive). Supported options: logistic (default: logistic)\n",
      "maxBins: Max number of bins for discretizing continuous features.  Must be >=2 and >= number of categories for any categorical feature. (default: 32)\n",
      "maxDepth: Maximum depth of the tree. (>= 0) E.g., depth 0 means 1 leaf node; depth 1 means 1 internal node + 2 leaf nodes. (default: 5)\n",
      "maxIter: max number of iterations (>= 0). (default: 20)\n",
      "maxMemoryInMB: Maximum memory in MB allocated to histogram aggregation. If too small, then 1 node will be split per iteration, and its aggregates may exceed this size. (default: 256)\n",
      "minInfoGain: Minimum information gain for a split to be considered at a tree node. (default: 0.0)\n",
      "minInstancesPerNode: Minimum number of instances each child must have after split. If a split causes the left or right child to have fewer than minInstancesPerNode, the split will be discarded as invalid. Should be >= 1. (default: 1)\n",
      "minWeightFractionPerNode: Minimum fraction of the weighted sample count that each child must have after split. If a split causes the fraction of the total weight in the left or right child to be less than minWeightFractionPerNode, the split will be discarded as invalid. Should be in interval [0.0, 0.5). (default: 0.0)\n",
      "predictionCol: prediction column name. (default: prediction)\n",
      "probabilityCol: Column name for predicted class conditional probabilities. Note: Not all models output well-calibrated probability estimates! These probabilities should be treated as confidences, not precise probabilities. (default: probability)\n",
      "rawPredictionCol: raw prediction (a.k.a. confidence) column name. (default: rawPrediction)\n",
      "seed: random seed. (default: 8174744472868722404)\n",
      "stepSize: Step size (a.k.a. learning rate) in interval (0, 1] for shrinking the contribution of each estimator. (default: 0.1)\n",
      "subsamplingRate: Fraction of the training data used for learning each decision tree, in range (0, 1]. (default: 1.0)\n",
      "thresholds: Thresholds in multi-class classification to adjust the probability of predicting each class. Array must have length equal to the number of classes, with values > 0, excepting that at most one value may be 0. The class with largest value p/t is predicted, where p is the original probability of that class and t is the class's threshold. (undefined)\n",
      "validationIndicatorCol: name of the column that indicates whether each row is for training or for validation. False indicates training; true indicates validation. (undefined)\n",
      "validationTol: Threshold for stopping early when fit with validation is used. If the error rate on the validation input changes by less than the validationTol, then learning will stop early (before `maxIter`). This parameter is ignored when fit without validation is used. (default: 0.01)\n",
      "weightCol: weight column name. If this is not set or empty, we treat all instance weights as 1.0. (undefined)\n"
     ]
    }
   ],
   "source": [
    "#check the parameters of GBT classifier\n",
    "gbt_classifier = GBTClassifier()\n",
    "print(gbt_classifier.explainParams())"
   ]
  },
  {
   "cell_type": "code",
   "execution_count": 43,
   "metadata": {},
   "outputs": [
    {
     "name": "stdout",
     "output_type": "stream",
     "text": [
      "\n"
     ]
    }
   ],
   "source": [
    "#define the GBT classifier\n",
    "gbt_classifier = GBTClassifier(labelCol = \"label\", featuresCol = \"features\")\n",
    "              \n",
    "#define the parameters for the GBT\n",
    "gbt_paramGrid = (ParamGridBuilder()\n",
    "             .addGrid(gbt_classifier.maxDepth, [4, 6])\n",
    "             .addGrid(gbt_classifier.minInstancesPerNode, [2, 4])\n",
    "             .addGrid(gbt_classifier.stepSize, [0.01])\n",
    "             .addGrid(gbt_classifier.maxIter, [20,30])\n",
    "             .addGrid(gbt_classifier.subsamplingRate, [0.75])\n",
    "             .build())\n",
    "#evaluator for CV\n",
    "evaluator = BinaryClassificationEvaluator()\n",
    "\n",
    "#perform 3-fold CV\n",
    "gbt_cv = CrossValidator(estimator = gbt_classifier, estimatorParamMaps = gbt_paramGrid, evaluator = evaluator, numFolds = 3)\n",
    "gbt_cvModel = gbt_cv.fit(train)\n",
    "gbt_predictions = gbt_cvModel.transform(test)"
   ]
  },
  {
   "cell_type": "code",
   "execution_count": 44,
   "metadata": {
    "colab": {
     "base_uri": "https://localhost:8080/",
     "height": 67
    },
    "colab_type": "code",
    "id": "ApqWQPSQMZWD",
    "outputId": "27608c9a-ca3e-47e9-fc95-b24bf21e5a88"
   },
   "outputs": [
    {
     "name": "stdout",
     "output_type": "stream",
     "text": [
      "Max Depth: 6\n",
      "Min Instances Per Node: 2\n",
      "Number of Trees: 20\n"
     ]
    }
   ],
   "source": [
    "#dispaly the best parameters after CV\n",
    "gbt_best_parameters = gbt_cvModel.bestModel\n",
    "print(\"Max Depth: \" + str(gbt_best_parameters._java_obj.getMaxDepth()))\n",
    "print(\"Min Instances Per Node: \" + str(gbt_best_parameters._java_obj.getMinInstancesPerNode()))\n",
    "print(\"Number of Trees: \" + str(gbt_best_parameters._java_obj.getNumTrees()))"
   ]
  },
  {
   "cell_type": "code",
   "execution_count": 45,
   "metadata": {
    "colab": {},
    "colab_type": "code",
    "id": "lj0Fo5dfNMhQ"
   },
   "outputs": [],
   "source": [
    "#compute the evaluation metrics using eval_metrics functions\n",
    "gbt_classifier = GBTClassifier(labelCol = \"label\", featuresCol = \"features\",maxDepth = 6, minInstancesPerNode = 2, maxIter = 20, subsamplingRate = 0.75)\n",
    "\n",
    "gbtModel = gbt_classifier.fit(train)\n",
    "gbt_predictions = gbtModel.transform(test)\n",
    "\n",
    "gbt_accuracy, gbt_auc, gbt_classification_report_df, gbt_conf_matrix = eval_metrics(gbt_predictions)"
   ]
  },
  {
   "cell_type": "code",
   "execution_count": 46,
   "metadata": {
    "colab": {
     "base_uri": "https://localhost:8080/",
     "height": 50
    },
    "colab_type": "code",
    "id": "hy1bQ77gNPuD",
    "outputId": "b1a36585-e63f-4c02-a847-ec271d392e26"
   },
   "outputs": [
    {
     "name": "stdout",
     "output_type": "stream",
     "text": [
      "GBT accuracy is 93.79\n",
      "GBT AUC is 0.94\n"
     ]
    }
   ],
   "source": [
    "#print accuracy and AUC\n",
    "print ('GBT accuracy is {:0.2f}'.format(gbt_accuracy))\n",
    "print ('GBT AUC is {:0.2f}'.format(gbt_auc))"
   ]
  },
  {
   "cell_type": "code",
   "execution_count": 47,
   "metadata": {
    "colab": {
     "base_uri": "https://localhost:8080/",
     "height": 134
    },
    "colab_type": "code",
    "id": "IQy3vTRhNXsO",
    "outputId": "54eb8b2f-57a8-4925-cd05-f2d04324ba14"
   },
   "outputs": [
    {
     "name": "stdout",
     "output_type": "stream",
     "text": [
      "+----+------------------+------------------+------------------+\n",
      "|News|            recall|         precision|          f1_score|\n",
      "+----+------------------+------------------+------------------+\n",
      "|Real| 0.931239972495989|0.9394219653179191|0.9353130755064457|\n",
      "|Fake|0.9441602728047741|0.9365750528541226|0.9403523668011037|\n",
      "+----+------------------+------------------+------------------+\n",
      "\n"
     ]
    }
   ],
   "source": [
    "#print classification report\n",
    "gbt_classification_report_df.show()"
   ]
  },
  {
   "cell_type": "code",
   "execution_count": 48,
   "metadata": {
    "colab": {
     "base_uri": "https://localhost:8080/",
     "height": 67
    },
    "colab_type": "code",
    "id": "nn4TwYziNZ9M",
    "outputId": "2c67cb26-eaf9-4152-d7d2-587fc83fb71b"
   },
   "outputs": [
    {
     "name": "stdout",
     "output_type": "stream",
     "text": [
      "Confusion Matrix\n",
      "[[4430.  262.]\n",
      " [ 300. 4063.]]\n"
     ]
    }
   ],
   "source": [
    "#print confusion matrix\n",
    "print(\"Confusion Matrix\")\n",
    "print(gbt_conf_matrix)"
   ]
  },
  {
   "cell_type": "code",
   "execution_count": 49,
   "metadata": {
    "colab": {
     "base_uri": "https://localhost:8080/",
     "height": 311
    },
    "colab_type": "code",
    "id": "8urvRaLrNmJ4",
    "outputId": "0e4aecd4-fda0-4ba0-bcf2-e554a65a5b53"
   },
   "outputs": [
    {
     "data": {
      "image/png": "[encoded data removed]",
      "text/plain": [
       "<Figure size 432x288 with 2 Axes>"
      ]
     },
     "metadata": {
      "needs_background": "light",
      "tags": []
     },
     "output_type": "display_data"
    }
   ],
   "source": [
    "#plot confusion matrix\n",
    "plot_confusion_matrix(gbt_conf_matrix, [\"Fake\",\"Real\"])"
   ]
  },
  {
   "cell_type": "markdown",
   "metadata": {
    "colab_type": "text",
    "id": "2B50SaEfpONS"
   },
   "source": [
    "**6.3 Neural Network using Keras and Elephas**\n",
    "\n",
    "Elephas is an extension of Keras, which allows you to run distributed deep learning models at scale with Spark. Elephas implements a class of data-parallel algorithms on top of Keras, using Spark's RDDs and data frames. Keras Models are initialized on the driver, then serialized and shipped to workers, alongside with data and broadcasted model parameters. Spark workers deserialize the model, train their chunk of data and send their gradients back to the driver. The \"master\" model on the driver is updated by an optimizer, which takes gradients either synchronously or asynchronously. The working of elephas is as follows:\n",
    "![alt text](https://raw.githubusercontent.com/maxpumperla/elephas/master/elephas.gif) \n",
    "\n",
    "The neural network model is defined using Keras layers and model is trained using the parameter defined in the elephas sparkML estimator. The neural network model consists:\n",
    "  1. Of 1 input layer, 2 hidden layers and 1 output layer\n",
    "  2. All layers are Dense layers with activation functions for input and hidden layers are ReLU and Softmax for outplut layer\n",
    "  3. A dropout layer of 10% is used after each layer \n",
    "  4. Binary Cross entropy loss function and Adam optimizer with 0.01 learning rate and the metrics used is \"accuracy\""
   ]
  },
  {
   "cell_type": "code",
   "execution_count": 53,
   "metadata": {
    "colab": {
     "base_uri": "https://localhost:8080/",
     "height": 406
    },
    "colab_type": "code",
    "id": "XaWGLxPWibOB",
    "outputId": "92b54c05-ed84-4579-be9a-15691ce7afbc"
   },
   "outputs": [
    {
     "name": "stdout",
     "output_type": "stream",
     "text": [
      "WARNING:tensorflow:From /usr/local/lib/python3.6/dist-packages/tensorflow/python/ops/nn_impl.py:180: add_dispatch_support.<locals>.wrapper (from tensorflow.python.ops.array_ops) is deprecated and will be removed in a future version.\n",
      "Instructions for updating:\n",
      "Use tf.where in 2.0, which has the same broadcast rule as np.where\n",
      "_________________________________________________________________\n",
      "Layer (type)                 Output Shape              Param #   \n",
      "=================================================================\n",
      "dense_5 (Dense)              (None, 256)               89856     \n",
      "_________________________________________________________________\n",
      "dropout_3 (Dropout)          (None, 256)               0         \n",
      "_________________________________________________________________\n",
      "dense_6 (Dense)              (None, 128)               32896     \n",
      "_________________________________________________________________\n",
      "dropout_4 (Dropout)          (None, 128)               0         \n",
      "_________________________________________________________________\n",
      "dense_7 (Dense)              (None, 64)                8256      \n",
      "_________________________________________________________________\n",
      "dense_8 (Dense)              (None, 2)                 130       \n",
      "=================================================================\n",
      "Total params: 131,138\n",
      "Trainable params: 131,138\n",
      "Non-trainable params: 0\n",
      "_________________________________________________________________\n"
     ]
    }
   ],
   "source": [
    "from keras import layers\n",
    "\n",
    "#count the number of target labels\n",
    "tar_class = train.select(\"label\").distinct().count()\n",
    "\n",
    "#dimension of input data\n",
    "input_dim = len(train.select(\"features\").first()[0])\n",
    "\n",
    "#define the neural network model\n",
    "model = Sequential()\n",
    "model.add(Dense(256, input_dim = input_dim, activation = \"relu\"))\n",
    "model.add(Dropout(0.1))\n",
    "model.add(Dense(128, activation = \"relu\"))\n",
    "model.add(Dropout(0.1))\n",
    "model.add(Dense(64, activation = \"relu\"))\n",
    "model.add(Dense(tar_class, activation = \"softmax\"))\n",
    "\n",
    "model.compile(optimizer = \"adam\",\n",
    "              loss = 'binary_crossentropy',\n",
    "               metrics=['accuracy'])\n",
    "\n",
    "model.summary()"
   ]
  },
  {
   "cell_type": "markdown",
   "metadata": {
    "colab_type": "text",
    "id": "sqA_OopuEMq2"
   },
   "source": [
    "The parameters of the estimator are:\n",
    "\n",
    "  1. set_keras_model_config(model.to_yaml()): Set the neural network model\n",
    "  2. set_categorical_labels(True): Set to True if labels are categorical\n",
    "  3. set_nb_classes(tar_class): Set the number of target classes\n",
    "  4. set_num_workers(1): Set the number of worker nodes\n",
    "  5. set_epochs(10): Set the number of iterations for the training\n",
    "  6. set_batch_size(64): Set the batch size \n",
    "  7. set_verbosity(1): Set the verbosity for the results display\n",
    "  8. set_validation_split(0.10): Set the validation data split from the training data\n",
    "  9. set_optimizer_config(opt_conf): Set the defined optimizer\n",
    "  10. set_mode(\"synchronous\"): Set the mode to synchronous\n",
    "  11. set_loss(\"binary_crossentropy\"): Set the loss for the model same as keras model.compile loss\n",
    "  12. set_metrics([\"acc\"]): Set the metrics for the model evaluation"
   ]
  },
  {
   "cell_type": "code",
   "execution_count": 54,
   "metadata": {
    "colab": {
     "base_uri": "https://localhost:8080/",
     "height": 34
    },
    "colab_type": "code",
    "id": "yxYHzmoDBcqZ",
    "outputId": "00a931a4-16eb-4069-b4fd-2fe61976b1f9"
   },
   "outputs": [
    {
     "data": {
      "text/plain": [
       "ElephasEstimator_9c47b203ea40"
      ]
     },
     "execution_count": 54,
     "metadata": {
      "tags": []
     },
     "output_type": "execute_result"
    }
   ],
   "source": [
    "#define the adam optimizer with lr = 0.01\n",
    "optimizer_conf = optimizers.Adam(lr = 0.01)\n",
    "opt_conf = optimizers.serialize(optimizer_conf)\n",
    "\n",
    "#define elephas estimator\n",
    "estimator = ElephasEstimator()\n",
    "\n",
    "#set the parameters for the estimator\n",
    "estimator.set_keras_model_config(model.to_yaml())\n",
    "estimator.set_categorical_labels(True)\n",
    "estimator.set_nb_classes(tar_class)\n",
    "estimator.set_num_workers(1)\n",
    "estimator.set_epochs(5)\n",
    "estimator.set_batch_size(64)\n",
    "estimator.set_verbosity(1)\n",
    "estimator.set_validation_split(0.10)\n",
    "estimator.set_optimizer_config(opt_conf)\n",
    "estimator.set_mode(\"synchronous\")\n",
    "estimator.set_loss(\"binary_crossentropy\")\n",
    "estimator.set_metrics([\"acc\"])"
   ]
  },
  {
   "cell_type": "code",
   "execution_count": 55,
   "metadata": {
    "colab": {
     "base_uri": "https://localhost:8080/",
     "height": 50
    },
    "colab_type": "code",
    "id": "GqKbWspHB1PM",
    "outputId": "9015350f-24df-46e7-ffca-e2abccdfa942"
   },
   "outputs": [
    {
     "name": "stdout",
     "output_type": "stream",
     "text": [
      ">>> Fit model\n",
      ">>> Synchronous training complete.\n"
     ]
    }
   ],
   "source": [
    "#train the model using the estimator\n",
    "fitted_pipeline = estimator.fit(train)\n",
    "\n",
    "#Predict the test data\n",
    "nn_prediction = fitted_pipeline.transform(test)"
   ]
  },
  {
   "cell_type": "code",
   "execution_count": 56,
   "metadata": {
    "colab": {},
    "colab_type": "code",
    "id": "z-96mlWvGS_u"
   },
   "outputs": [],
   "source": [
    "#compute the evaluation metrics \n",
    "nn_accuracy, nn_auc, nn_classification_report, nn_conf_matrix = eval_metrics(nn_prediction)"
   ]
  },
  {
   "cell_type": "code",
   "execution_count": 57,
   "metadata": {
    "colab": {
     "base_uri": "https://localhost:8080/",
     "height": 50
    },
    "colab_type": "code",
    "id": "7d6JDw7F6AT4",
    "outputId": "a96806bc-8cd1-4d1a-cbbc-274ae670a051"
   },
   "outputs": [
    {
     "name": "stdout",
     "output_type": "stream",
     "text": [
      "Neural Network accuracy is 98.60\n",
      "Neural Network AUC is 0.99\n"
     ]
    }
   ],
   "source": [
    "#print accuracy and AUC\n",
    "print ('Neural Network accuracy is {:0.2f}'.format(nn_accuracy))\n",
    "print ('Neural Network AUC is {:0.2f}'.format(nn_auc))"
   ]
  },
  {
   "cell_type": "code",
   "execution_count": 58,
   "metadata": {
    "colab": {
     "base_uri": "https://localhost:8080/",
     "height": 134
    },
    "colab_type": "code",
    "id": "YtahDi90H8kN",
    "outputId": "0a5efb16-3d8b-46b1-d4f8-82d2efb9176d"
   },
   "outputs": [
    {
     "name": "stdout",
     "output_type": "stream",
     "text": [
      "+----+------------------+------------------+------------------+\n",
      "|News|            recall|         precision|          f1_score|\n",
      "+----+------------------+------------------+------------------+\n",
      "|Real|0.9848727939491175|0.9860027535566773|0.9854374498337346|\n",
      "|Fake| 0.986999147485081|0.9859484777517564|0.9864735328575993|\n",
      "+----+------------------+------------------+------------------+\n",
      "\n"
     ]
    }
   ],
   "source": [
    "#print classification report\n",
    "nn_classification_report.show()"
   ]
  },
  {
   "cell_type": "code",
   "execution_count": 59,
   "metadata": {
    "colab": {
     "base_uri": "https://localhost:8080/",
     "height": 67
    },
    "colab_type": "code",
    "id": "Y827eamxIKLB",
    "outputId": "a2f658b5-d947-4bd1-ae1b-472e7cad88f5"
   },
   "outputs": [
    {
     "name": "stdout",
     "output_type": "stream",
     "text": [
      "Confusion Matrix\n",
      "[[4631.   61.]\n",
      " [  66. 4297.]]\n"
     ]
    }
   ],
   "source": [
    "#print confusion matrix\n",
    "print(\"Confusion Matrix\")\n",
    "print(nn_conf_matrix)"
   ]
  },
  {
   "cell_type": "code",
   "execution_count": 60,
   "metadata": {
    "colab": {
     "base_uri": "https://localhost:8080/",
     "height": 311
    },
    "colab_type": "code",
    "id": "D4loc78JIQCw",
    "outputId": "8dee102a-d63a-485b-8a3a-1efaac2a221d"
   },
   "outputs": [
    {
     "data": {
      "image/png": "[encoded data removed]",
      "text/plain": [
       "<Figure size 432x288 with 2 Axes>"
      ]
     },
     "metadata": {
      "needs_background": "light",
      "tags": []
     },
     "output_type": "display_data"
    }
   ],
   "source": [
    "#plot confusion matrix\n",
    "plot_confusion_matrix(nn_conf_matrix, [\"Fake\",\"Real\"])"
   ]
  },
  {
   "cell_type": "markdown",
   "metadata": {},
   "source": [
    "**7. Conclusion**\n",
    "\n",
    "The dataset was trained using three algorithms and the model performance is studied using F1 score and confusion matrix. Below shows the table of the models performance:\n",
    "\n",
    "| Model           | AUC | F1 score               | Accuracy |\n",
    "|-----------------|-----|------------------------|----------|\n",
    "|Decision Tree    |0.91 |Real:0.90<br>Fake: 0.91 |91.00%    |\n",
    "|Gradient Boosting|0.94 |Real: 0.93<br>Fake: 0.94|93.79%    |\n",
    "|Neural Network   |0.99 |Real: 0.98<br>Fake: 0.98|98.60%    |\n",
    "\n",
    "The best model is Neural Network with and accuracy of 98% and less false positives and false negatives compared to Decision tree and Gradient Boosting."
   ]
  },
  {
   "cell_type": "markdown",
   "metadata": {
    "colab_type": "text",
    "id": "wbwTUK5kB3X-"
   },
   "source": [
    "References:\n",
    "\n",
    "https://spark.apache.org/docs/latest/ml-guide.html\n",
    "\n",
    "https://github.com/maxpumperla/elephas"
   ]
  },
  {
   "cell_type": "code",
   "execution_count": null,
   "metadata": {
    "colab": {},
    "colab_type": "code",
    "id": "tapNZXsqJLf3"
   },
   "outputs": [],
   "source": []
  }
 ],
 "metadata": {
  "colab": {
   "collapsed_sections": [],
   "name": "Fake_news_detection_using_title_and_text.ipynb",
   "provenance": []
  },
  "kernelspec": {
   "display_name": "Python 3",
   "language": "python",
   "name": "python3"
  },
  "language_info": {
   "codemirror_mode": {
    "name": "ipython",
    "version": 3
   },
   "file_extension": ".py",
   "mimetype": "text/x-python",
   "name": "python",
   "nbconvert_exporter": "python",
   "pygments_lexer": "ipython3",
   "version": "3.7.4"
  }
 },
 "nbformat": 4,
 "nbformat_minor": 1
}
